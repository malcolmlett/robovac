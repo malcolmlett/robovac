{
  "nbformat": 4,
  "nbformat_minor": 0,
  "metadata": {
    "colab": {
      "provenance": [],
      "authorship_tag": "ABX9TyO2d/OORTL/sFUlpsmyUC11",
      "include_colab_link": true
    },
    "kernelspec": {
      "name": "python3",
      "display_name": "Python 3"
    },
    "language_info": {
      "name": "python"
    }
  },
  "cells": [
    {
      "cell_type": "markdown",
      "metadata": {
        "id": "view-in-github",
        "colab_type": "text"
      },
      "source": [
        "<a href=\"https://colab.research.google.com/github/malcolmlett/robovac/blob/main/Experiment_Arch_to_LDS_2.ipynb\" target=\"_parent\"><img src=\"https://colab.research.google.com/assets/colab-badge.svg\" alt=\"Open In Colab\"/></a>"
      ]
    },
    {
      "cell_type": "markdown",
      "source": [
        "Proves out that I I can do the same thing via code from github"
      ],
      "metadata": {
        "id": "QGBjuTQkZgY9"
      }
    },
    {
      "cell_type": "code",
      "source": [
        "import os\n",
        "if os.path.isdir('repo'):\n",
        "  !cd repo && git pull\n",
        "else:\n",
        "  !git clone https://github.com/malcolmlett/robovac.git repo"
      ],
      "metadata": {
        "colab": {
          "base_uri": "https://localhost:8080/"
        },
        "id": "l1SboRHsah5m",
        "outputId": "bc20f316-7e30-46a3-97b2-f40d778610ee"
      },
      "execution_count": 1,
      "outputs": [
        {
          "output_type": "stream",
          "name": "stdout",
          "text": [
            "Cloning into 'repo'...\n",
            "remote: Enumerating objects: 32, done.\u001b[K\n",
            "remote: Counting objects: 100% (32/32), done.\u001b[K\n",
            "remote: Compressing objects: 100% (24/24), done.\u001b[K\n",
            "remote: Total 32 (delta 10), reused 20 (delta 4), pack-reused 0 (from 0)\u001b[K\n",
            "Receiving objects: 100% (32/32), 344.30 KiB | 3.31 MiB/s, done.\n",
            "Resolving deltas: 100% (10/10), done.\n"
          ]
        }
      ]
    },
    {
      "cell_type": "code",
      "source": [
        "import numpy as np\n",
        "import pandas as pd\n",
        "import matplotlib.pyplot as plt\n",
        "import seaborn as sns\n",
        "import tensorflow as tf\n",
        "from PIL import Image\n",
        "import requests\n",
        "import math\n",
        "from repo import lds\n",
        "from importlib import reload\n",
        "reload(lds)"
      ],
      "metadata": {
        "colab": {
          "base_uri": "https://localhost:8080/"
        },
        "id": "9qHr7SZnZxbs",
        "outputId": "2322f5b7-4d32-48ad-b72d-9135ba783c8d"
      },
      "execution_count": 3,
      "outputs": [
        {
          "output_type": "execute_result",
          "data": {
            "text/plain": [
              "<module 'repo.lds' from '/content/repo/lds.py'>"
            ]
          },
          "metadata": {},
          "execution_count": 3
        }
      ]
    },
    {
      "cell_type": "code",
      "source": [
        "# Load single black'n'white image as source data from github\n",
        "#arch = Image.open()\n",
        "url = \"https://github.com/malcolmlett/robovac/blob/main/data/experimental-architecture1.png?raw=true\"\n",
        "arch = Image.open(requests.get(url, stream=True).raw)\n",
        "arch = np.array(arch, dtype=np.bool_)\n",
        "arch.shape"
      ],
      "metadata": {
        "colab": {
          "base_uri": "https://localhost:8080/"
        },
        "id": "_CbYojo3fhSE",
        "outputId": "dfe4fad3-0061-4394-de40-ceb18e803f44"
      },
      "execution_count": 4,
      "outputs": [
        {
          "output_type": "execute_result",
          "data": {
            "text/plain": [
              "(84, 94)"
            ]
          },
          "metadata": {},
          "execution_count": 4
        }
      ]
    },
    {
      "cell_type": "code",
      "source": [
        "# Plot lds data\n",
        "# (note that imshow treates pixels as centered on their coordinate, and spanning range (-0.5,+0.5), so the coordinates have to be adjusted by adding (-0.5,-0.5) when overlaying)\n",
        "loc = (80, 10)\n",
        "points = lds.lds_to_2d(lds.lds_sample(arch, loc, 0.0), loc, 0.0)\n",
        "print(f\"points: {points.shape}\")\n",
        "plt.figure(figsize=(10, 10))\n",
        "plt.imshow(arch, cmap='gray')\n",
        "#for x, y in points:\n",
        "#  plt.plot([loc[0]-0.5, x-0.5], [loc[1]-0.5, y-0.5], color='grey', linewidth=0.5)\n",
        "plt.scatter(loc[0]-0.5, loc[1]-0.5, c='r', s=10)\n",
        "plt.scatter(56-0.5, 3-0.5, c='r', s=10)\n",
        "plt.scatter(points[:,0]-0.5, points[:,1]-0.5, c='b', s=10)\n",
        "plt.show()"
      ],
      "metadata": {
        "colab": {
          "base_uri": "https://localhost:8080/",
          "height": 771
        },
        "id": "0Od-Zt9hNSm3",
        "outputId": "819eb617-d98c-4c6c-8034-6be75aa6b0c3"
      },
      "execution_count": 6,
      "outputs": [
        {
          "output_type": "stream",
          "name": "stdout",
          "text": [
            "points: (360, 2)\n"
          ]
        },
        {
          "output_type": "display_data",
          "data": {
            "text/plain": [
              "<Figure size 1000x1000 with 1 Axes>"
            ],
            "image/png": "[encoded data removed]"
          },
          "metadata": {}
        }
      ]
    },
    {
      "cell_type": "code",
      "source": [],
      "metadata": {
        "id": "QAanXxVONVCx"
      },
      "execution_count": null,
      "outputs": []
    }
  ]
}