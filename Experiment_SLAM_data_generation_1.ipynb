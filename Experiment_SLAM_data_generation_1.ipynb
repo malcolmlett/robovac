{
  "nbformat": 4,
  "nbformat_minor": 0,
  "metadata": {
    "colab": {
      "provenance": [],
      "authorship_tag": "ABX9TyOc8okSMcS6YaXe+ObqTai0",
      "include_colab_link": true
    },
    "kernelspec": {
      "name": "python3",
      "display_name": "Python 3"
    },
    "language_info": {
      "name": "python"
    }
  },
  "cells": [
    {
      "cell_type": "markdown",
      "metadata": {
        "id": "view-in-github",
        "colab_type": "text"
      },
      "source": [
        "<a href=\"https://colab.research.google.com/github/malcolmlett/robovac/blob/main/Experiment_SLAM_data_generation_1.ipynb\" target=\"_parent\"><img src=\"https://colab.research.google.com/assets/colab-badge.svg\" alt=\"Open In Colab\"/></a>"
      ]
    },
    {
      "cell_type": "markdown",
      "source": [
        "# Experiment: SLAM Data Generation (v1)\n",
        "This is the first notebook to really seriously look into generating realistic training data for the SLAM model.\n",
        "\n",
        "This notebook follows on from `Experiment-SLAM-2.ipynb`.\n",
        "\n",
        "**Problems identified in Experiment-SLAM-2:**\n",
        "\n",
        "A number of problems with the data generation were identified there:\n",
        "* Input maps are too complete and too perfect. They're exactly the same as the ground-truth maps, so there's nothing for the NN to do, and no incentive to use the LDS data to improve the map.\n",
        "* The NN should always prefer the LDS data over its the input map, as the input map represents only a guess, while LDS is true state. I don't think I've got this balanced quite right in the training data yet.\n",
        "\n",
        "**Suggestions from Experiment-SLAM-2:**\n",
        "\n",
        "Some initial ideas for improving the training data were:\n",
        "* Simulate an agent actually moving around an environment and building up the map from parts, instead of the current extremes: being given either a fully-known map or no-map in between.\n",
        "  * Imagine taking a path along the map.\n",
        "  * At each location collect what it can see within the LDS range - this collects a circle of data.\n",
        "  * Then add some noise the LDS data before turning it into the input map.\n",
        "  * Later on optionally add motion-skew (where the agent continuously slowly slides slightly to one side so that the SLAM map ends up over a curve and the NN will have to correct that).\n",
        "  * API note: add collection of options for turning different kinds of errors on/off.\n",
        "* Play around with occlusions more. Instead of being given a full map for the current location it should be given only a partial map, forcing it to do a partial-match on the map and the LDS data. eg:\n",
        "  * Randomly drop half of the input map, centred on the map centre, according to a dividing line that goes through the centre at some random angle.\n",
        "  * Use ~1/3rd sized circles of LDS range and randomly splat them around the map filling in only the parts that are splatted. Do this to build up the input map that is then snapshotted. Take a random number of splats, to simulate different levels of known map. Could be easy to implement by first building up mask from the splats and then applying that against the full map."
      ],
      "metadata": {
        "id": "ciAnXkRkqoy9"
      }
    },
    {
      "cell_type": "code",
      "source": [
        "import os\n",
        "if os.path.isdir('repo'):\n",
        "  # discard any local changes and update\n",
        "  !cd repo && git reset --hard HEAD\n",
        "  !cd repo && git fetch\n",
        "else:\n",
        "  !git clone https://github.com/malcolmlett/robovac.git repo\n",
        "\n",
        "# lock to revision\n",
        "#!cd repo && git checkout e33eb2b\n",
        "!cd repo && git pull\n",
        "\n",
        "import sys\n",
        "sys.path.append('repo')\n",
        "\n",
        "from general_utils import display_history\n",
        "import lds\n",
        "import slam\n",
        "import slam_data\n",
        "from importlib import reload\n",
        "reload(lds)\n",
        "reload(slam)\n",
        "reload(slam_data)"
      ],
      "metadata": {
        "colab": {
          "base_uri": "https://localhost:8080/"
        },
        "id": "fATXdBTBrcbq",
        "outputId": "464701b6-c491-4dd6-f6ba-4dca0e60bf4f"
      },
      "execution_count": 120,
      "outputs": [
        {
          "output_type": "stream",
          "name": "stdout",
          "text": [
            "HEAD is now at 5492782 Bug fixes and minor factoring\n",
            "remote: Enumerating objects: 5, done.\u001b[K\n",
            "remote: Counting objects: 100% (5/5), done.\u001b[K\n",
            "remote: Compressing objects: 100% (1/1), done.\u001b[K\n",
            "remote: Total 3 (delta 2), reused 3 (delta 2), pack-reused 0 (from 0)\u001b[K\n",
            "Unpacking objects: 100% (3/3), 2.10 KiB | 1.05 MiB/s, done.\n",
            "From https://github.com/malcolmlett/robovac\n",
            "   5492782..4b14300  main       -> origin/main\n",
            "Updating 5492782..4b14300\n",
            "Fast-forward\n",
            " slam_data.py | 168 \u001b[32m+++++++++++++++++++++++++++++++++++++++++++++++++++++++++++++++++\u001b[m\u001b[31m--------------\u001b[m\n",
            " 1 file changed, 140 insertions(+), 28 deletions(-)\n"
          ]
        },
        {
          "output_type": "execute_result",
          "data": {
            "text/plain": [
              "<module 'slam_data' from '/content/repo/slam_data.py'>"
            ]
          },
          "metadata": {},
          "execution_count": 120
        }
      ]
    },
    {
      "cell_type": "code",
      "source": [
        "!pip install -Uqq ipdb\n",
        "\n",
        "import numpy as np\n",
        "import pandas as pd\n",
        "import matplotlib.pyplot as plt\n",
        "import tensorflow as tf\n",
        "from PIL import Image\n",
        "import io\n",
        "import os\n",
        "import shutil\n",
        "import tarfile\n",
        "import cv2\n",
        "import requests\n",
        "import math\n",
        "import ipdb\n",
        "import tqdm\n",
        "import time\n",
        "from timeit import default_timer as timer"
      ],
      "metadata": {
        "id": "orcgWMICrmt0"
      },
      "execution_count": 18,
      "outputs": []
    },
    {
      "cell_type": "code",
      "source": [
        "a = np.array([[0, 50, 0.5], [50, 100, 0.75], [20, None, 0.8]])\n",
        "r = np.array([2, 20, 40, 50, 60, 70, 80, 90, 100, 120, 150, np.nan])\n",
        "for start, end, stddev in a:\n",
        "  print(f\"{start} - {end} @ {stddev}\")\n",
        "  mask = (r >= start) & (end is None or r < end)\n",
        "  noise = np.random.normal(0.0, 1.0, size=r.shape) * r\n",
        "  #ranges[mask] += noise[mask]\n",
        "  print(r[mask])\n",
        "  print(noise[mask])\n",
        "\n"
      ],
      "metadata": {
        "colab": {
          "base_uri": "https://localhost:8080/"
        },
        "id": "ZN3OL4bmrr9h",
        "outputId": "7f0e83ee-ee4e-437f-88cd-7f32eca05e70"
      },
      "execution_count": 16,
      "outputs": [
        {
          "output_type": "stream",
          "name": "stdout",
          "text": [
            "0 - 50 @ 0.5\n",
            "[ 2. 20. 40.]\n",
            "[ -1.8710649  -20.21901749 -51.19588093]\n",
            "50 - 100 @ 0.75\n",
            "[50. 60. 70. 80. 90.]\n",
            "[ 68.85227002 -87.41940067  17.64226826  75.85756191  -2.9997317 ]\n",
            "20 - None @ 0.8\n",
            "[ 20.  40.  50.  60.  70.  80.  90. 100. 120. 150.]\n",
            "[ -16.89898497  -16.10938698   58.06678374   23.37399216    4.90089885\n",
            "  -70.94329675 -143.42504753  151.00208519  100.35479529  147.45664277]\n"
          ]
        }
      ]
    },
    {
      "cell_type": "markdown",
      "source": [
        "## LDS sampling with noise"
      ],
      "metadata": {
        "id": "Mk5N8glPzFBv"
      }
    },
    {
      "cell_type": "code",
      "source": [
        "floorplan = Image.open('repo/data/experimental-floorplan2.png')\n",
        "floorplan = np.array(floorplan, dtype=np.uint8)\n",
        "print(f\"RGB encoded:     shape={floorplan.shape}, dtype={floorplan.dtype}, value range: {np.min(floorplan)} - {np.max(floorplan)}\")\n",
        "\n",
        "floorplan = slam_data.one_hot_encode_floorplan(floorplan).numpy()\n",
        "print(f\"one-hot encoded: shape={floorplan.shape}, dtype={floorplan.dtype}, value range: {np.min(floorplan)} - {np.max(floorplan)}\")\n"
      ],
      "metadata": {
        "colab": {
          "base_uri": "https://localhost:8080/"
        },
        "id": "pkBnyDjNr_Ti",
        "outputId": "a29999a4-baa0-4d71-b336-56f2318671f1"
      },
      "execution_count": 21,
      "outputs": [
        {
          "output_type": "stream",
          "name": "stdout",
          "text": [
            "RGB encoded:     shape=(139, 294, 3), dtype=uint8, value range: 0 - 255\n",
            "one-hot encoded: shape=(139, 294, 3), dtype=float32, value range: 0.0 - 1.0\n"
          ]
        }
      ]
    },
    {
      "cell_type": "code",
      "source": [
        "reload(lds)\n",
        "loc = (70.0, 50.0)\n",
        "ranges1 = lds.lds_sample(floorplan[:,:,1], np.array(loc) * lds.__PIXEL_SIZE__, angle=0.0, noise_ranges=None)\n",
        "lds_points1 = lds.lds_to_occupancy_map(ranges1, angle=0.0)\n",
        "\n",
        "ranges2 = lds.lds_sample(floorplan[:,:,1], np.array(loc) * lds.__PIXEL_SIZE__, angle=0.0)\n",
        "lds_points2 = lds.lds_to_occupancy_map(ranges2, angle=0.0)\n",
        "\n",
        "plt.figure(figsize=(10,3))\n",
        "plt.subplot(1,3,1)\n",
        "plt.title('Source')\n",
        "plt.imshow(floorplan)\n",
        "plt.scatter(loc[0], loc[1], c='k', s=50)\n",
        "\n",
        "plt.subplot(1,3,2)\n",
        "plt.title(\"Without noise\")\n",
        "plt.imshow(lds_points1, cmap='gray')\n",
        "\n",
        "plt.subplot(1,3,3)\n",
        "plt.title(\"With noise\")\n",
        "plt.imshow(lds_points2, cmap='gray')\n",
        "\n",
        "plt.show()\n",
        "\n"
      ],
      "metadata": {
        "colab": {
          "base_uri": "https://localhost:8080/",
          "height": 345
        },
        "id": "wnhWHSL0zV28",
        "outputId": "d110c58d-c507-4cd1-c8f4-501c73d0c2cd"
      },
      "execution_count": 60,
      "outputs": [
        {
          "output_type": "stream",
          "name": "stdout",
          "text": [
            "Adding noise with stddev 7.653061224489796\n",
            "Adding noise with stddev 0.025510204081632654*range = 8.257748173522081 - 88.76344752784487\n"
          ]
        },
        {
          "output_type": "display_data",
          "data": {
            "text/plain": [
              "<Figure size 1000x300 with 3 Axes>"
            ],
            "image/png": "[encoded data removed]"
          },
          "metadata": {}
        }
      ]
    },
    {
      "cell_type": "code",
      "source": [
        "reload(lds)\n",
        "reload(slam_data)\n",
        "#np.random.seed(0)\n",
        "dataset = slam_data.generate_training_data(floorplan, 5, sample_types=(3))\n",
        "slam_data.validate_dataset(dataset)\n",
        "slam_data.show_dataset(dataset)"
      ],
      "metadata": {
        "colab": {
          "base_uri": "https://localhost:8080/",
          "height": 686
        },
        "id": "hrg2CSal1BdX",
        "outputId": "513cac50-16df-46ba-d443-70f051801f59"
      },
      "execution_count": 123,
      "outputs": [
        {
          "output_type": "stream",
          "name": "stdout",
          "text": [
            "Generating 5 samples of training data\n",
            "Pixel size: 44.71\n",
            "Max distance: 3500\n",
            "Sample types: [3]\n"
          ]
        },
        {
          "output_type": "stream",
          "name": "stderr",
          "text": [
            "  0%|          | 0/5 [00:00<?, ?it/s]\n"
          ]
        },
        {
          "output_type": "error",
          "ename": "IndexError",
          "evalue": "index 139 is out of bounds for axis 0 with size 139",
          "traceback": [
            "\u001b[0;31m---------------------------------------------------------------------------\u001b[0m",
            "\u001b[0;31mIndexError\u001b[0m                                Traceback (most recent call last)",
            "\u001b[0;32m<ipython-input-123-5171a1bf6ce3>\u001b[0m in \u001b[0;36m<cell line: 4>\u001b[0;34m()\u001b[0m\n\u001b[1;32m      2\u001b[0m \u001b[0mreload\u001b[0m\u001b[0;34m(\u001b[0m\u001b[0mslam_data\u001b[0m\u001b[0;34m)\u001b[0m\u001b[0;34m\u001b[0m\u001b[0;34m\u001b[0m\u001b[0m\n\u001b[1;32m      3\u001b[0m \u001b[0;31m#np.random.seed(0)\u001b[0m\u001b[0;34m\u001b[0m\u001b[0;34m\u001b[0m\u001b[0m\n\u001b[0;32m----> 4\u001b[0;31m \u001b[0mdataset\u001b[0m \u001b[0;34m=\u001b[0m \u001b[0mslam_data\u001b[0m\u001b[0;34m.\u001b[0m\u001b[0mgenerate_training_data\u001b[0m\u001b[0;34m(\u001b[0m\u001b[0mfloorplan\u001b[0m\u001b[0;34m,\u001b[0m \u001b[0;36m5\u001b[0m\u001b[0;34m,\u001b[0m \u001b[0msample_types\u001b[0m\u001b[0;34m=\u001b[0m\u001b[0;34m(\u001b[0m\u001b[0;36m3\u001b[0m\u001b[0;34m)\u001b[0m\u001b[0;34m)\u001b[0m\u001b[0;34m\u001b[0m\u001b[0;34m\u001b[0m\u001b[0m\n\u001b[0m\u001b[1;32m      5\u001b[0m \u001b[0mslam_data\u001b[0m\u001b[0;34m.\u001b[0m\u001b[0mvalidate_dataset\u001b[0m\u001b[0;34m(\u001b[0m\u001b[0mdataset\u001b[0m\u001b[0;34m)\u001b[0m\u001b[0;34m\u001b[0m\u001b[0;34m\u001b[0m\u001b[0m\n\u001b[1;32m      6\u001b[0m \u001b[0mslam_data\u001b[0m\u001b[0;34m.\u001b[0m\u001b[0mshow_dataset\u001b[0m\u001b[0;34m(\u001b[0m\u001b[0mdataset\u001b[0m\u001b[0;34m)\u001b[0m\u001b[0;34m\u001b[0m\u001b[0;34m\u001b[0m\u001b[0m\n",
            "\u001b[0;32m/content/repo/slam_data.py\u001b[0m in \u001b[0;36mgenerate_training_data\u001b[0;34m(semantic_map, num_samples, **kwargs)\u001b[0m\n\u001b[1;32m    164\u001b[0m                 \u001b[0mmin_distance\u001b[0m \u001b[0;34m=\u001b[0m \u001b[0mmax_distance\u001b[0m \u001b[0;34m*\u001b[0m \u001b[0;36m1.5\u001b[0m  \u001b[0;31m# at most only 1/4th of diameter of LDS circles will overlap\u001b[0m\u001b[0;34m\u001b[0m\u001b[0;34m\u001b[0m\u001b[0m\n\u001b[1;32m    165\u001b[0m                 \u001b[0;32mwhile\u001b[0m \u001b[0mlds_loc\u001b[0m \u001b[0;32mis\u001b[0m \u001b[0;32mNone\u001b[0m \u001b[0;32mor\u001b[0m \u001b[0mnp\u001b[0m\u001b[0;34m.\u001b[0m\u001b[0mlinalg\u001b[0m\u001b[0;34m.\u001b[0m\u001b[0mnorm\u001b[0m\u001b[0;34m(\u001b[0m\u001b[0mmap_location\u001b[0m \u001b[0;34m-\u001b[0m \u001b[0mlds_loc\u001b[0m\u001b[0;34m)\u001b[0m \u001b[0;34m<\u001b[0m \u001b[0mmin_distance\u001b[0m\u001b[0;34m:\u001b[0m\u001b[0;34m\u001b[0m\u001b[0;34m\u001b[0m\u001b[0m\n\u001b[0;32m--> 166\u001b[0;31m                     \u001b[0mlds_loc\u001b[0m \u001b[0;34m=\u001b[0m \u001b[0mrandom_floor_location\u001b[0m\u001b[0;34m(\u001b[0m\u001b[0msemantic_map\u001b[0m\u001b[0;34m,\u001b[0m \u001b[0;34m(\u001b[0m\u001b[0;36m0\u001b[0m\u001b[0;34m,\u001b[0m \u001b[0;36m0\u001b[0m\u001b[0;34m)\u001b[0m\u001b[0;34m,\u001b[0m \u001b[0mfull_map_loc_range\u001b[0m\u001b[0;34m)\u001b[0m\u001b[0;34m\u001b[0m\u001b[0;34m\u001b[0m\u001b[0m\n\u001b[0m\u001b[1;32m    167\u001b[0m                 \u001b[0mlds_angle\u001b[0m \u001b[0;34m=\u001b[0m \u001b[0mnp\u001b[0m\u001b[0;34m.\u001b[0m\u001b[0mrandom\u001b[0m\u001b[0;34m.\u001b[0m\u001b[0muniform\u001b[0m\u001b[0;34m(\u001b[0m\u001b[0;34m-\u001b[0m\u001b[0mnp\u001b[0m\u001b[0;34m.\u001b[0m\u001b[0mpi\u001b[0m\u001b[0;34m,\u001b[0m \u001b[0mnp\u001b[0m\u001b[0;34m.\u001b[0m\u001b[0mpi\u001b[0m\u001b[0;34m)\u001b[0m  \u001b[0;31m# uniform anywhere within 360-degree range\u001b[0m\u001b[0;34m\u001b[0m\u001b[0;34m\u001b[0m\u001b[0m\n\u001b[1;32m    168\u001b[0m                 \u001b[0mloc_error\u001b[0m \u001b[0;34m=\u001b[0m \u001b[0mlds_loc\u001b[0m \u001b[0;34m-\u001b[0m \u001b[0mmap_location\u001b[0m\u001b[0;34m\u001b[0m\u001b[0;34m\u001b[0m\u001b[0m\n",
            "\u001b[0;32m/content/repo/slam_data.py\u001b[0m in \u001b[0;36mrandom_floor_location\u001b[0;34m(semantic_map, low, high, **kwargs)\u001b[0m\n\u001b[1;32m    328\u001b[0m         \u001b[0;31m# generates values == high, so eliminate those too\u001b[0m\u001b[0;34m\u001b[0m\u001b[0;34m\u001b[0m\u001b[0m\n\u001b[1;32m    329\u001b[0m         \u001b[0;32mif\u001b[0m \u001b[0mnp\u001b[0m\u001b[0;34m.\u001b[0m\u001b[0mall\u001b[0m\u001b[0;34m(\u001b[0m\u001b[0mlocation\u001b[0m \u001b[0;34m>=\u001b[0m \u001b[0mlow\u001b[0m\u001b[0;34m)\u001b[0m \u001b[0;32mand\u001b[0m \u001b[0mnp\u001b[0m\u001b[0;34m.\u001b[0m\u001b[0mall\u001b[0m\u001b[0;34m(\u001b[0m\u001b[0mlocation\u001b[0m \u001b[0;34m<\u001b[0m \u001b[0mhigh\u001b[0m\u001b[0;34m)\u001b[0m \u001b[0;32mand\u001b[0m\u001b[0;31m \u001b[0m\u001b[0;31m\\\u001b[0m\u001b[0;34m\u001b[0m\u001b[0;34m\u001b[0m\u001b[0m\n\u001b[0;32m--> 330\u001b[0;31m                 \u001b[0mclass_at_location\u001b[0m\u001b[0;34m(\u001b[0m\u001b[0msemantic_map\u001b[0m\u001b[0;34m,\u001b[0m \u001b[0mlocation\u001b[0m\u001b[0;34m)\u001b[0m \u001b[0;34m==\u001b[0m \u001b[0m__FLOOR_IDX__\u001b[0m\u001b[0;34m:\u001b[0m\u001b[0;34m\u001b[0m\u001b[0;34m\u001b[0m\u001b[0m\n\u001b[0m\u001b[1;32m    331\u001b[0m             \u001b[0;32mreturn\u001b[0m \u001b[0mlocation\u001b[0m\u001b[0;34m\u001b[0m\u001b[0;34m\u001b[0m\u001b[0m\n\u001b[1;32m    332\u001b[0m \u001b[0;34m\u001b[0m\u001b[0m\n",
            "\u001b[0;32m/content/repo/slam_data.py\u001b[0m in \u001b[0;36mclass_at_location\u001b[0;34m(semantic_map, location, **kwargs)\u001b[0m\n\u001b[1;32m    348\u001b[0m     \u001b[0mpixel_size\u001b[0m \u001b[0;34m=\u001b[0m \u001b[0mkwargs\u001b[0m\u001b[0;34m.\u001b[0m\u001b[0mget\u001b[0m\u001b[0;34m(\u001b[0m\u001b[0;34m'pixel_size'\u001b[0m\u001b[0;34m,\u001b[0m \u001b[0mlds\u001b[0m\u001b[0;34m.\u001b[0m\u001b[0m__PIXEL_SIZE__\u001b[0m\u001b[0;34m)\u001b[0m\u001b[0;34m\u001b[0m\u001b[0;34m\u001b[0m\u001b[0m\n\u001b[1;32m    349\u001b[0m     \u001b[0mloc_px\u001b[0m \u001b[0;34m=\u001b[0m \u001b[0mnp\u001b[0m\u001b[0;34m.\u001b[0m\u001b[0mround\u001b[0m\u001b[0;34m(\u001b[0m\u001b[0mlocation\u001b[0m \u001b[0;34m/\u001b[0m \u001b[0mpixel_size\u001b[0m\u001b[0;34m)\u001b[0m\u001b[0;34m.\u001b[0m\u001b[0mastype\u001b[0m\u001b[0;34m(\u001b[0m\u001b[0mint\u001b[0m\u001b[0;34m)\u001b[0m\u001b[0;34m\u001b[0m\u001b[0;34m\u001b[0m\u001b[0m\n\u001b[0;32m--> 350\u001b[0;31m     \u001b[0;32mreturn\u001b[0m \u001b[0mnp\u001b[0m\u001b[0;34m.\u001b[0m\u001b[0margmax\u001b[0m\u001b[0;34m(\u001b[0m\u001b[0msemantic_map\u001b[0m\u001b[0;34m[\u001b[0m\u001b[0mloc_px\u001b[0m\u001b[0;34m[\u001b[0m\u001b[0;36m1\u001b[0m\u001b[0;34m]\u001b[0m\u001b[0;34m,\u001b[0m \u001b[0mloc_px\u001b[0m\u001b[0;34m[\u001b[0m\u001b[0;36m0\u001b[0m\u001b[0;34m]\u001b[0m\u001b[0;34m]\u001b[0m\u001b[0;34m)\u001b[0m\u001b[0;34m\u001b[0m\u001b[0;34m\u001b[0m\u001b[0m\n\u001b[0m\u001b[1;32m    351\u001b[0m \u001b[0;34m\u001b[0m\u001b[0m\n\u001b[1;32m    352\u001b[0m \u001b[0;34m\u001b[0m\u001b[0m\n",
            "\u001b[0;31mIndexError\u001b[0m: index 139 is out of bounds for axis 0 with size 139"
          ]
        }
      ]
    },
    {
      "cell_type": "code",
      "source": [
        "np.linalg.norm(np.array([1,2]), np.array([3,4]))"
      ],
      "metadata": {
        "colab": {
          "base_uri": "https://localhost:8080/",
          "height": 263
        },
        "id": "2dYjNw99CQeq",
        "outputId": "9d2a89c3-691b-49b9-bda0-e71c71b87256"
      },
      "execution_count": 117,
      "outputs": [
        {
          "output_type": "error",
          "ename": "ValueError",
          "evalue": "The truth value of an array with more than one element is ambiguous. Use a.any() or a.all()",
          "traceback": [
            "\u001b[0;31m---------------------------------------------------------------------------\u001b[0m",
            "\u001b[0;31mValueError\u001b[0m                                Traceback (most recent call last)",
            "\u001b[0;32m<ipython-input-117-3fa6ee3b67ea>\u001b[0m in \u001b[0;36m<cell line: 1>\u001b[0;34m()\u001b[0m\n\u001b[0;32m----> 1\u001b[0;31m \u001b[0mnp\u001b[0m\u001b[0;34m.\u001b[0m\u001b[0mlinalg\u001b[0m\u001b[0;34m.\u001b[0m\u001b[0mnorm\u001b[0m\u001b[0;34m(\u001b[0m\u001b[0mnp\u001b[0m\u001b[0;34m.\u001b[0m\u001b[0marray\u001b[0m\u001b[0;34m(\u001b[0m\u001b[0;34m[\u001b[0m\u001b[0;36m1\u001b[0m\u001b[0;34m,\u001b[0m\u001b[0;36m2\u001b[0m\u001b[0;34m]\u001b[0m\u001b[0;34m)\u001b[0m\u001b[0;34m,\u001b[0m \u001b[0mnp\u001b[0m\u001b[0;34m.\u001b[0m\u001b[0marray\u001b[0m\u001b[0;34m(\u001b[0m\u001b[0;34m[\u001b[0m\u001b[0;36m3\u001b[0m\u001b[0;34m,\u001b[0m\u001b[0;36m4\u001b[0m\u001b[0;34m]\u001b[0m\u001b[0;34m)\u001b[0m\u001b[0;34m)\u001b[0m\u001b[0;34m\u001b[0m\u001b[0;34m\u001b[0m\u001b[0m\n\u001b[0m",
            "\u001b[0;32m/usr/local/lib/python3.10/dist-packages/numpy/linalg/linalg.py\u001b[0m in \u001b[0;36mnorm\u001b[0;34m(x, ord, axis, keepdims)\u001b[0m\n\u001b[1;32m   2541\u001b[0m         \u001b[0mndim\u001b[0m \u001b[0;34m=\u001b[0m \u001b[0mx\u001b[0m\u001b[0;34m.\u001b[0m\u001b[0mndim\u001b[0m\u001b[0;34m\u001b[0m\u001b[0;34m\u001b[0m\u001b[0m\n\u001b[1;32m   2542\u001b[0m         if ((ord is None) or\n\u001b[0;32m-> 2543\u001b[0;31m             \u001b[0;34m(\u001b[0m\u001b[0mord\u001b[0m \u001b[0;32min\u001b[0m \u001b[0;34m(\u001b[0m\u001b[0;34m'f'\u001b[0m\u001b[0;34m,\u001b[0m \u001b[0;34m'fro'\u001b[0m\u001b[0;34m)\u001b[0m \u001b[0;32mand\u001b[0m \u001b[0mndim\u001b[0m \u001b[0;34m==\u001b[0m \u001b[0;36m2\u001b[0m\u001b[0;34m)\u001b[0m \u001b[0;32mor\u001b[0m\u001b[0;34m\u001b[0m\u001b[0;34m\u001b[0m\u001b[0m\n\u001b[0m\u001b[1;32m   2544\u001b[0m             (ord == 2 and ndim == 1)):\n\u001b[1;32m   2545\u001b[0m \u001b[0;34m\u001b[0m\u001b[0m\n",
            "\u001b[0;31mValueError\u001b[0m: The truth value of an array with more than one element is ambiguous. Use a.any() or a.all()"
          ]
        }
      ]
    },
    {
      "cell_type": "code",
      "source": [
        "np.ravel(np.array(np.array([5,6])))"
      ],
      "metadata": {
        "colab": {
          "base_uri": "https://localhost:8080/"
        },
        "id": "wzn8AbjqKOn9",
        "outputId": "b7f20cc7-05c4-4057-d7c4-1d4af8f19002"
      },
      "execution_count": 100,
      "outputs": [
        {
          "output_type": "execute_result",
          "data": {
            "text/plain": [
              "array([5, 6])"
            ]
          },
          "metadata": {},
          "execution_count": 100
        }
      ]
    },
    {
      "cell_type": "markdown",
      "source": [
        "## Next Steps\n",
        "Next step is to start using the model to generate the input map in the training data set.\n",
        "\n",
        "Probably split out the training into aeons.\n",
        "During the first aeon it'll use ground-truth generated input maps.\n",
        "At the end of each aeon it'll generate new input maps for the dataset and use them in the next aeon."
      ],
      "metadata": {
        "id": "2lAeh6m2eGC3"
      }
    },
    {
      "cell_type": "code",
      "source": [],
      "metadata": {
        "id": "g7OhPagIN68H"
      },
      "execution_count": null,
      "outputs": []
    }
  ]
}