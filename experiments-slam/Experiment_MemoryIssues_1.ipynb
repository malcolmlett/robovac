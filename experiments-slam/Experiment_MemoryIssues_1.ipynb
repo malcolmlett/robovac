{
  "nbformat": 4,
  "nbformat_minor": 0,
  "metadata": {
    "colab": {
      "provenance": [],
      "gpuType": "T4",
      "authorship_tag": "ABX9TyOELFry+z5P4whOWfK76LEn",
      "include_colab_link": true
    },
    "kernelspec": {
      "name": "python3",
      "display_name": "Python 3"
    },
    "language_info": {
      "name": "python"
    },
    "accelerator": "GPU"
  },
  "cells": [
    {
      "cell_type": "markdown",
      "metadata": {
        "id": "view-in-github",
        "colab_type": "text"
      },
      "source": [
        "<a href=\"https://colab.research.google.com/github/malcolmlett/robovac/blob/main/Experiment_MemoryIssues_1.ipynb\" target=\"_parent\"><img src=\"https://colab.research.google.com/assets/colab-badge.svg\" alt=\"Open In Colab\"/></a>"
      ]
    },
    {
      "cell_type": "markdown",
      "source": [
        "# Experiment: Memory Issues (v1)\n",
        "I've been having problems with System RAM escalating during training, to the point that on a normal RAM-sized platform I'm regularly failing to train to 100 epochs.\n",
        "\n",
        "But even weirder is that the System RAM usage doesn't escalate in the same way when I switch to a High-RAM platform.\n",
        "\n",
        "So here's some experiments to try to get to the bottom of the cause."
      ],
      "metadata": {
        "id": "6qePwSXFJV2z"
      }
    },
    {
      "cell_type": "code",
      "execution_count": null,
      "metadata": {
        "colab": {
          "base_uri": "https://localhost:8080/"
        },
        "id": "pGdrwhvhDxej",
        "outputId": "4b074231-3707-4380-cd58-9ad2c811aae7"
      },
      "outputs": [
        {
          "output_type": "stream",
          "name": "stdout",
          "text": [
            "Cloning into 'repo'...\n",
            "remote: Enumerating objects: 565, done.\u001b[K\n",
            "remote: Counting objects: 100% (47/47), done.\u001b[K\n",
            "remote: Compressing objects: 100% (15/15), done.\u001b[K\n",
            "remote: Total 565 (delta 36), reused 38 (delta 32), pack-reused 518 (from 1)\u001b[K\n",
            "Receiving objects: 100% (565/565), 40.45 MiB | 21.18 MiB/s, done.\n",
            "Resolving deltas: 100% (303/303), done.\n",
            "Already up to date.\n"
          ]
        },
        {
          "output_type": "execute_result",
          "data": {
            "text/plain": [
              "<module 'slam_data' from '/content/repo/slam_data.py'>"
            ]
          },
          "metadata": {},
          "execution_count": 1
        }
      ],
      "source": [
        "import os\n",
        "if os.path.isdir('repo'):\n",
        "  # discard any local changes and update\n",
        "  !cd repo && git reset --hard HEAD\n",
        "  !cd repo && git fetch\n",
        "else:\n",
        "  !git clone https://github.com/malcolmlett/robovac.git repo\n",
        "\n",
        "# lock to revision\n",
        "#!cd repo && git checkout e33eb2b\n",
        "!cd repo && git pull\n",
        "\n",
        "import sys\n",
        "sys.path.append('repo')\n",
        "\n",
        "from general_utils import display_history\n",
        "import lds\n",
        "import slam\n",
        "import slam_data\n",
        "from importlib import reload\n",
        "reload(lds)\n",
        "reload(slam)\n",
        "reload(slam_data)"
      ]
    },
    {
      "cell_type": "code",
      "source": [
        "!pip install -Uqq ipdb\n",
        "\n",
        "import numpy as np\n",
        "import pandas as pd\n",
        "import matplotlib.pyplot as plt\n",
        "import tensorflow as tf\n",
        "from PIL import Image\n",
        "import io\n",
        "import os\n",
        "import shutil\n",
        "import tarfile\n",
        "import cv2\n",
        "import requests\n",
        "import math\n",
        "import ipdb\n",
        "import tqdm\n",
        "import time\n",
        "import gc\n",
        "import datetime\n",
        "from timeit import default_timer as timer"
      ],
      "metadata": {
        "id": "Tm-UmstAJF3V",
        "colab": {
          "base_uri": "https://localhost:8080/"
        },
        "outputId": "30fb1bc0-21e4-49e4-9a9d-72ae833552e6"
      },
      "execution_count": null,
      "outputs": [
        {
          "output_type": "stream",
          "name": "stdout",
          "text": [
            "\u001b[?25l   \u001b[90m━━━━━━━━━━━━━━━━━━━━━━━━━━━━━━━━━━━━━━━━\u001b[0m \u001b[32m0.0/1.6 MB\u001b[0m \u001b[31m?\u001b[0m eta \u001b[36m-:--:--\u001b[0m\r\u001b[2K   \u001b[91m━━━━━━━━━━━━━━━━━━━━━━━━━━━━━━━━━━━━━━━\u001b[0m\u001b[91m╸\u001b[0m \u001b[32m1.6/1.6 MB\u001b[0m \u001b[31m47.0 MB/s\u001b[0m eta \u001b[36m0:00:01\u001b[0m\r\u001b[2K   \u001b[90m━━━━━━━━━━━━━━━━━━━━━━━━━━━━━━━━━━━━━━━━\u001b[0m \u001b[32m1.6/1.6 MB\u001b[0m \u001b[31m28.8 MB/s\u001b[0m eta \u001b[36m0:00:00\u001b[0m\n",
            "\u001b[?25h"
          ]
        }
      ]
    },
    {
      "cell_type": "code",
      "source": [
        "# Load training data\n",
        "train_data = slam_data.load_dataset('repo/data/experimental-slam-training-data4.npz')"
      ],
      "metadata": {
        "colab": {
          "base_uri": "https://localhost:8080/"
        },
        "id": "u6HN3K_BJIlz",
        "outputId": "504933c5-e3a7-4f8e-c8a8-de5df603d1b3"
      },
      "execution_count": null,
      "outputs": [
        {
          "output_type": "stream",
          "name": "stdout",
          "text": [
            "Loaded:\n",
            "  input_maps:  (1000, 159, 159, 3) x float32\n",
            "  lds_maps:    (1000, 159, 159) x float32\n",
            "  output_maps: (1000, 159, 159, 3) x float32\n",
            "  adlos:       (1000, 4) x float32\n",
            "  metadatas:   (1000, 8) x float32\n",
            "Dataset loaded from repo/data/experimental-slam-training-data4.npz\n"
          ]
        }
      ]
    },
    {
      "cell_type": "code",
      "source": [
        "# Prepare static model-compatible training data\n",
        "def prepare_dataset(dataset):\n",
        "  N = len(dataset)\n",
        "  one = next(iter(train_data))\n",
        "  map_shape = one[0][0].shape\n",
        "  lds_shape = one[0][1].shape\n",
        "  adlo_shape = one[1][1].shape\n",
        "  print(f\"map_shape: {map_shape}, lds_shape: {lds_shape}, adlo_shape: {adlo_shape}\")\n",
        "\n",
        "  input_maps = np.zeros(shape=(N, map_shape[0], map_shape[1], map_shape[2]), dtype=np.float32)\n",
        "  lds_inputs = np.zeros(shape=(N, lds_shape[0], lds_shape[1]), dtype=np.float32)\n",
        "  output_maps = np.zeros(shape=(N, map_shape[0], map_shape[1], map_shape[2]), dtype=np.float32)\n",
        "  output_adlos = np.zeros(shape=(N, adlo_shape[0]), dtype=np.float32)\n",
        "\n",
        "  for i, ((input_map, lds_input), (output_map, output_adlo), metadata) in enumerate(dataset):\n",
        "    input_maps[i] = input_map\n",
        "    lds_inputs[i] = lds_input\n",
        "    output_maps[i] = output_map\n",
        "    output_adlos[i] = output_adlo\n",
        "\n",
        "  return tf.data.Dataset.from_tensor_slices(((input_maps, lds_inputs), (output_maps, output_adlos)))\n",
        "\n",
        "basic_dataset = prepare_dataset(train_data)\n",
        "print(f\"Returned dataset: {basic_dataset.element_spec}\")"
      ],
      "metadata": {
        "colab": {
          "base_uri": "https://localhost:8080/"
        },
        "id": "7ikoUwGLR2bu",
        "outputId": "9075231a-0749-4492-9ee4-d5deb24051ef"
      },
      "execution_count": null,
      "outputs": [
        {
          "output_type": "stream",
          "name": "stdout",
          "text": [
            "map_shape: (159, 159, 3), lds_shape: (159, 159), adlo_shape: (4,)\n",
            "Returned dataset: ((TensorSpec(shape=(159, 159, 3), dtype=tf.float32, name=None), TensorSpec(shape=(159, 159), dtype=tf.float32, name=None)), (TensorSpec(shape=(159, 159, 3), dtype=tf.float32, name=None), TensorSpec(shape=(4,), dtype=tf.float32, name=None)))\n"
          ]
        }
      ]
    },
    {
      "cell_type": "markdown",
      "source": [
        "## Baseline 1\n",
        "Run model with most basic settings."
      ],
      "metadata": {
        "id": "ep2wPdm0ejo5"
      }
    },
    {
      "cell_type": "code",
      "source": [
        "reload(slam)\n",
        "reload(slam_data)\n",
        "\n",
        "one = next(iter(train_data))\n",
        "map_shape = one[0][0].shape\n",
        "print(f\"map_shape: {map_shape}\")\n",
        "np.random.seed(42)\n",
        "tf.random.set_seed(42)\n",
        "\n",
        "model = slam.slam_model(map_shape, conv_filters=32, adlo_units=256, compile=False)\n",
        "model.compile(optimizer='adam', loss={\n",
        "    'map_output': tf.keras.losses.CategoricalCrossentropy(from_logits=True),\n",
        "    'adlo_output': tf.keras.losses.MeanSquaredError()\n",
        "})\n",
        "\n",
        "epochs = 50\n",
        "batch_size = 32\n",
        "model_train_data = basic_dataset.shuffle(buffer_size=len(train_data))\\\n",
        "  .batch(batch_size)\\\n",
        "  .prefetch(tf.data.experimental.AUTOTUNE)\n",
        "\n",
        "start = timer()\n",
        "model_history = model.fit(model_train_data, epochs=epochs)\n",
        "duration = (timer() - start)\n",
        "print(f\"Epochs: {epochs}, duration: {duration} sec\")"
      ],
      "metadata": {
        "id": "bFh3B4g1QvR3"
      },
      "execution_count": null,
      "outputs": []
    },
    {
      "cell_type": "code",
      "source": [
        "gc.collect()"
      ],
      "metadata": {
        "colab": {
          "base_uri": "https://localhost:8080/"
        },
        "id": "5IhT6M9aYPnl",
        "outputId": "ebfb285e-61f5-4ac7-c6a0-1d3c7316a231"
      },
      "execution_count": null,
      "outputs": [
        {
          "output_type": "execute_result",
          "data": {
            "text/plain": [
              "110117"
            ]
          },
          "metadata": {},
          "execution_count": 16
        }
      ]
    },
    {
      "cell_type": "code",
      "source": [
        "del model_history"
      ],
      "metadata": {
        "id": "JCkaH0GpYaRn"
      },
      "execution_count": null,
      "outputs": []
    },
    {
      "cell_type": "code",
      "source": [
        "gc.collect()"
      ],
      "metadata": {
        "colab": {
          "base_uri": "https://localhost:8080/"
        },
        "id": "TckpC5wmYgnm",
        "outputId": "2f0e370a-34a8-419c-c5d9-687fdf6efff8"
      },
      "execution_count": null,
      "outputs": [
        {
          "output_type": "execute_result",
          "data": {
            "text/plain": [
              "588"
            ]
          },
          "metadata": {},
          "execution_count": 18
        }
      ]
    },
    {
      "cell_type": "code",
      "source": [
        "del model"
      ],
      "metadata": {
        "id": "O-Jst9dmYjgm"
      },
      "execution_count": null,
      "outputs": []
    },
    {
      "cell_type": "code",
      "source": [
        "gc.collect()"
      ],
      "metadata": {
        "colab": {
          "base_uri": "https://localhost:8080/"
        },
        "id": "RhUtEmSlYms_",
        "outputId": "aa6fc7d0-add3-44a5-bf44-7ed516fa8b25"
      },
      "execution_count": null,
      "outputs": [
        {
          "output_type": "execute_result",
          "data": {
            "text/plain": [
              "14809"
            ]
          },
          "metadata": {},
          "execution_count": 20
        }
      ]
    },
    {
      "cell_type": "code",
      "source": [
        "del model_train_data\n",
        "gc.collect()"
      ],
      "metadata": {
        "colab": {
          "base_uri": "https://localhost:8080/"
        },
        "id": "P6XDCOwGYuU8",
        "outputId": "8a9fcf81-2ba0-4fef-ccf9-ecbf7cf73f75"
      },
      "execution_count": null,
      "outputs": [
        {
          "output_type": "execute_result",
          "data": {
            "text/plain": [
              "174"
            ]
          },
          "metadata": {},
          "execution_count": 22
        }
      ]
    },
    {
      "cell_type": "code",
      "source": [
        "del basic_dataset\n",
        "del train_data\n",
        "del one\n",
        "gc.collect()"
      ],
      "metadata": {
        "colab": {
          "base_uri": "https://localhost:8080/"
        },
        "id": "fuZpOs_TY2rN",
        "outputId": "1a36af62-84ee-4f3b-e984-97132cede4fc"
      },
      "execution_count": null,
      "outputs": [
        {
          "output_type": "execute_result",
          "data": {
            "text/plain": [
              "88"
            ]
          },
          "metadata": {},
          "execution_count": 23
        }
      ]
    },
    {
      "cell_type": "code",
      "source": [
        "%whos"
      ],
      "metadata": {
        "colab": {
          "base_uri": "https://localhost:8080/"
        },
        "id": "0gmSwhzqZZk1",
        "outputId": "a55104ae-14ba-4fa6-85cb-673911dcd005"
      },
      "execution_count": null,
      "outputs": [
        {
          "output_type": "stream",
          "name": "stdout",
          "text": [
            "Variable          Type                          Data/Info\n",
            "---------------------------------------------------------\n",
            "Image             module                        <module 'PIL.Image' from <...>t-packages/PIL/Image.py'>\n",
            "batch_size        int                           32\n",
            "cv2               module                        <module 'cv2' from '/usr/<...>ackages/cv2/__init__.py'>\n",
            "datetime          module                        <module 'datetime' from '<...>/python3.10/datetime.py'>\n",
            "display_history   function                      <function display_history at 0x7d6c1103bb50>\n",
            "duration          float                         870.659386487\n",
            "epochs            int                           50\n",
            "gc                module                        <module 'gc' (built-in)>\n",
            "io                module                        <module 'io' from '/usr/lib/python3.10/io.py'>\n",
            "ipdb              module                        <module 'ipdb' from '/usr<...>ckages/ipdb/__init__.py'>\n",
            "lds               module                        <module 'lds' from '/content/repo/lds.py'>\n",
            "map_shape         TensorShape                   (159, 159, 3)\n",
            "math              module                        <module 'math' (built-in)>\n",
            "np                module                        <module 'numpy' from '/us<...>kages/numpy/__init__.py'>\n",
            "os                module                        <module 'os' from '/usr/lib/python3.10/os.py'>\n",
            "pd                module                        <module 'pandas' from '/u<...>ages/pandas/__init__.py'>\n",
            "plt               module                        <module 'matplotlib.pyplo<...>es/matplotlib/pyplot.py'>\n",
            "prepare_dataset   function                      <function prepare_dataset at 0x7d6ba946c8b0>\n",
            "reload            function                      <function reload at 0x7d6c2abdf250>\n",
            "requests          module                        <module 'requests' from '<...>es/requests/__init__.py'>\n",
            "shutil            module                        <module 'shutil' from '/u<...>ib/python3.10/shutil.py'>\n",
            "slam              module                        <module 'slam' from '/content/repo/slam.py'>\n",
            "slam_data         module                        <module 'slam_data' from <...>ntent/repo/slam_data.py'>\n",
            "start             float                         953.651690538\n",
            "sys               module                        <module 'sys' (built-in)>\n",
            "tarfile           module                        <module 'tarfile' from '/<...>b/python3.10/tarfile.py'>\n",
            "tf                module                        <module 'tensorflow' from<...>/tensorflow/__init__.py'>\n",
            "time              module                        <module 'time' (built-in)>\n",
            "timer             builtin_function_or_method    <built-in function perf_counter>\n",
            "tqdm              module                        <module 'tqdm' from '/usr<...>ckages/tqdm/__init__.py'>\n"
          ]
        }
      ]
    },
    {
      "cell_type": "code",
      "source": [
        "%reset -f"
      ],
      "metadata": {
        "id": "qHzvufNPbuhL"
      },
      "execution_count": null,
      "outputs": []
    },
    {
      "cell_type": "code",
      "source": [
        "gc.collect()"
      ],
      "metadata": {
        "colab": {
          "base_uri": "https://localhost:8080/",
          "height": 141
        },
        "id": "SI59eySDbzoH",
        "outputId": "0cb5e367-c78c-4c81-9228-d6dc70d7df10"
      },
      "execution_count": null,
      "outputs": [
        {
          "output_type": "error",
          "ename": "NameError",
          "evalue": "name 'gc' is not defined",
          "traceback": [
            "\u001b[0;31m---------------------------------------------------------------------------\u001b[0m",
            "\u001b[0;31mNameError\u001b[0m                                 Traceback (most recent call last)",
            "\u001b[0;32m<ipython-input-28-35e5c8a5ab93>\u001b[0m in \u001b[0;36m<cell line: 1>\u001b[0;34m()\u001b[0m\n\u001b[0;32m----> 1\u001b[0;31m \u001b[0mgc\u001b[0m\u001b[0;34m.\u001b[0m\u001b[0mcollect\u001b[0m\u001b[0;34m(\u001b[0m\u001b[0;34m)\u001b[0m\u001b[0;34m\u001b[0m\u001b[0;34m\u001b[0m\u001b[0m\n\u001b[0m",
            "\u001b[0;31mNameError\u001b[0m: name 'gc' is not defined"
          ]
        }
      ]
    },
    {
      "cell_type": "markdown",
      "source": [
        "**Results:**\n",
        "\n",
        "* Started at 4.5G usage and went up to 8.1G.\n",
        "* Immediate GC collect didn't recover anything of any use.\n",
        "* Neither did deleting `model_history`, `model`, `model_train_data`\n",
        "* I finally got a small drop from 8.2G to 7.6G after deleting all the remaining dataset copies held in memory.\n",
        "* `%reset -f` cleared up about 0.4G from 7.2G to 6.8G, but it completely wiped all variables. So it amounts to restarting the system, but with less memory available afterwards."
      ],
      "metadata": {
        "id": "O_B1rbktX4K_"
      }
    },
    {
      "cell_type": "markdown",
      "source": [
        "![image.png](data:image/png;base64,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)"
      ],
      "metadata": {
        "id": "IDld-qnPYLXy"
      }
    },
    {
      "cell_type": "markdown",
      "source": [
        "## Baseline 2\n",
        "Run model with full settings."
      ],
      "metadata": {
        "id": "Fbq1CyziQrXY"
      }
    },
    {
      "cell_type": "code",
      "source": [
        "reload(slam)\n",
        "reload(slam_data)\n",
        "\n",
        "one = next(iter(train_data))\n",
        "map_shape = one[0][0].shape\n",
        "print(f\"map_shape: {map_shape}\")\n",
        "np.random.seed(42)\n",
        "tf.random.set_seed(42)\n",
        "\n",
        "model = slam.slam_model(map_shape, conv_filters=32, adlo_units=256, compile=True, verbose_history=True)\n",
        "\n",
        "epochs = 50\n",
        "batch_size = 32\n",
        "model_train_data = train_data.map(lambda inputs, outputs, metadata: (inputs, outputs))\\\n",
        "  .shuffle(buffer_size=len(train_data))\\\n",
        "  .batch(batch_size)\\\n",
        "  .prefetch(tf.data.experimental.AUTOTUNE)\n",
        "\n",
        "start = timer()\n",
        "model_history = model.fit(model_train_data, epochs=epochs)\n",
        "duration = (timer() - start)\n",
        "print(f\"Epochs: {epochs}, duration: {duration} sec\")\n",
        "display_history(model_history)\n",
        "slam_data.show_predictions(model, train_data, 5, show_classes='pred')"
      ],
      "metadata": {
        "id": "bypFi9lcJObl"
      },
      "execution_count": null,
      "outputs": []
    },
    {
      "cell_type": "markdown",
      "source": [
        "## Some other experiments\n"
      ],
      "metadata": {
        "id": "ofNOdVogcxWy"
      }
    },
    {
      "cell_type": "code",
      "source": [
        "# Best to run this on an entirely fresh system\n",
        "import os, psutil\n",
        "p = psutil.Process(os.getpid())\n",
        "\n",
        "print(\"Memory Usage (before import):\", p.memory_info().rss/1024/1024, \"MB\")\n",
        "\n",
        "import tensorflow as tf\n",
        "num_visible_gpus = 8 # OPTIONAL\n",
        "gpu_devs = tf.config.experimental.list_physical_devices(\"GPU\") # OPTIONAL\n",
        "tf.config.experimental.set_visible_devices(gpu_devs[:num_visible_gpus], \"GPU\") # OPTIONAL\n",
        "\n",
        "print(\"Memory Usage (after  import):\", p.memory_info().rss/1024/1024, \"MB\")\n",
        "\n",
        "tf.Variable(42.0) # Do some pseudowork...\n",
        "\n",
        "print(\"Memory Usage (after var-def):\", p.memory_info().rss/1024/1024, \"MB\")"
      ],
      "metadata": {
        "colab": {
          "base_uri": "https://localhost:8080/"
        },
        "id": "w3pmF46QcyZD",
        "outputId": "ebc36fed-a51c-4dc4-b91b-a02eecee00c1"
      },
      "execution_count": null,
      "outputs": [
        {
          "output_type": "stream",
          "name": "stdout",
          "text": [
            "Memory Usage (before import): 117.12109375 MB\n",
            "Memory Usage (after  import): 770.2890625 MB\n",
            "Memory Usage (after var-def): 872.2890625 MB\n"
          ]
        }
      ]
    },
    {
      "cell_type": "markdown",
      "source": [
        "## Commentary\n",
        "\n",
        "* https://saturncloud.io/blog/how-to-clear-jupyter-memory-without-restarting-notebook/\n",
        "* https://stackoverflow.com/questions/61430162/colab-ram-is-almost-full-after-training-although-i-delete-the-variables\n",
        "* https://stackoverflow.com/questions/74706189/why-is-tensorflow-putting-all-data-into-system-memory\n",
        "* https://github.com/tensorflow/tensorflow/issues/36459"
      ],
      "metadata": {
        "id": "NbSI-Cs0c4vA"
      }
    },
    {
      "cell_type": "markdown",
      "source": [
        "## Explanations\n",
        "\n",
        "* https://www.tensorflow.org/guide/gpu#limiting_gpu_memory_growth"
      ],
      "metadata": {
        "id": "80J6zuVadc8X"
      }
    },
    {
      "cell_type": "code",
      "source": [],
      "metadata": {
        "id": "sYdpc1K5czIk"
      },
      "execution_count": null,
      "outputs": []
    }
  ]
}