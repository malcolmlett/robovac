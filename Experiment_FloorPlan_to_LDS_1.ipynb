{
  "nbformat": 4,
  "nbformat_minor": 0,
  "metadata": {
    "colab": {
      "provenance": [],
      "authorship_tag": "ABX9TyNsK9rkZWC8GSbL3coV5598",
      "include_colab_link": true
    },
    "kernelspec": {
      "name": "python3",
      "display_name": "Python 3"
    },
    "language_info": {
      "name": "python"
    }
  },
  "cells": [
    {
      "cell_type": "markdown",
      "metadata": {
        "id": "view-in-github",
        "colab_type": "text"
      },
      "source": [
        "<a href=\"https://colab.research.google.com/github/malcolmlett/robovac/blob/main/Experiment_Arch_to_LDS_1.ipynb\" target=\"_parent\"><img src=\"https://colab.research.google.com/assets/colab-badge.svg\" alt=\"Open In Colab\"/></a>"
      ]
    },
    {
      "cell_type": "markdown",
      "source": [
        "# Architecture to LDS Data Experiments v1\n",
        "LDS = \"Laser Distance Sensor\""
      ],
      "metadata": {
        "id": "lRSRJVUUB4nP"
      }
    },
    {
      "cell_type": "code",
      "source": [
        "# Setup common imports\n",
        "import numpy as np\n",
        "import pandas as pd\n",
        "import matplotlib.pyplot as plt\n",
        "import seaborn as sns\n",
        "import tensorflow as tf\n",
        "#from IPython.display import Image\n",
        "from PIL import Image\n",
        "import requests\n",
        "import math"
      ],
      "metadata": {
        "id": "L5p9fH5ADjpt"
      },
      "execution_count": 52,
      "outputs": []
    },
    {
      "cell_type": "code",
      "source": [
        "# Load single black'n'white image as source data from github\n",
        "#arch = Image.open()\n",
        "url = \"https://github.com/malcolmlett/robovac/blob/main/data/experimental-architecture1.png?raw=true\"\n",
        "arch = Image.open(requests.get(url, stream=True).raw)\n",
        "arch = np.array(arch, dtype=np.bool_)\n",
        "arch.shape"
      ],
      "metadata": {
        "colab": {
          "base_uri": "https://localhost:8080/"
        },
        "id": "AzGNQc6xCCg2",
        "outputId": "9f82d80a-bff4-4bcb-86b1-dad5cb966b14"
      },
      "execution_count": 53,
      "outputs": [
        {
          "output_type": "execute_result",
          "data": {
            "text/plain": [
              "(84, 94)"
            ]
          },
          "metadata": {},
          "execution_count": 53
        }
      ]
    },
    {
      "cell_type": "code",
      "source": [
        "# Pick a coordinate as our location (x,y)\n",
        "loc = (60, 25)"
      ],
      "metadata": {
        "id": "yFFpo4xIGbFs"
      },
      "execution_count": 54,
      "outputs": []
    },
    {
      "cell_type": "code",
      "source": [
        "# Show what we've got, and overlay a coloured dot on the coordinate of loc\n",
        "plt.figure(figsize=(3, 3))\n",
        "plt.imshow(arch, cmap='gray')\n",
        "plt.scatter(loc[0], loc[1], c='r', s=10)\n",
        "plt.show()"
      ],
      "metadata": {
        "colab": {
          "base_uri": "https://localhost:8080/",
          "height": 272
        },
        "id": "z8lH4HE0FHCB",
        "outputId": "5b0431c4-9d34-41c5-95f5-bb5fe378f287"
      },
      "execution_count": 55,
      "outputs": [
        {
          "output_type": "display_data",
          "data": {
            "text/plain": [
              "<Figure size 300x300 with 1 Axes>"
            ],
            "image/png": "[encoded data removed]"
          },
          "metadata": {}
        }
      ]
    },
    {
      "cell_type": "markdown",
      "source": [
        "## Generate LDS Data\n",
        "Assumptions in approach:\n",
        "* Laser traces are have infinitesimal width\n",
        "* All decimal-valued coordinates identify infinitesimal width positions somewhere within the width of the pixel that it overlays. With `#.0` at the near-origin side of the pixel, and `#.9999` at the opposite side of the same pixel.\n",
        "* All integer-valued coordinates identify a pixel-width square spanning the range `(#.0,#.0)` to `(#.9999,#.9999)` and with its centre at `(#.5,#.5)`.\n",
        "\n",
        "For collision with individual pixels, the approach is:\n",
        "* Treat each pixel as a circle, having a centre in the middle of the pixel and a diameter equal to the _diagonal_ of the pixel (ie: $\\sqrt{2}$).\n",
        "* Additionally, each pixel has a holographic line that always passes through the centre and has a normal in the direction of the trace. The line extends out from the centre in both directions with radius equal to the radius of the pixel.\n",
        "* A collision in determined by doing the single linear algebra dot-product trick to identify the intersection point between the trace and the pixel's line, and then to check whether the intersection is within the line radius.\n",
        "* When selecting between potential collisions, the min distance to intersection point is taken.\n",
        "\n",
        "Algorithm:\n",
        "* `step_size` = position increment used by traces, in their direction\n",
        "* `grid_size` = distance between centres of nearest-neighbours cache grid\n",
        "* `step_size` = `grid_size`\n",
        "* Nearest-neighbours bubble size: radius = grid_size\n",
        "  * This ensures that the bubbles overlap considerably on horizontal/vertical and diagonal axies.\n",
        "  * It's possible that it'd work with 0.5*sqrt(2)*step-size - so that the bubbles meet exactly on the diagonal and overlap a little on the horizontal/vertical. However there's potentially an edge case with traces jumping semi-diagonally over a bubble and missing potential collisions. The larger bubble size resolves this, I believe.\n",
        "\n",
        "1. Initialise a grid of cached nearest-neighbour \"bubbles\", having a circular shape and containing a count + list of all pixels within its area.\n",
        "1. Initialise 360 traces, with:\n",
        "  * initial position at centre\n",
        "  * step (x,y) calculated according to their angle and the step size\n",
        "  * a value indicating how much of the trace has been consumed (in range 0.0 to 1.0)\n",
        "  * a value indicating its current range (initially NaN)\n",
        "1. Proceed with all traces simultaneously:\n",
        "  1. Take one step\n",
        "  1. Identify the single cache bubble having the nearest centre by doing a `round(x,y)/grid_size` operation against the trace's position to identify the array lookups into the cache for each trace\n",
        "1. For each trace that hasn't already been consumed and for which the cache has pixels:\n",
        "  1. Compute for all pixels within the cache bubble simultaneously\n",
        "  1. Compute the intersection points with each pixel's holographic line.\n",
        "  1. Filter to remove all intersections that are > pixel radius from the pixel centre.\n",
        "  1. Compute the distances to each remaining intersection point.\n",
        "  1. Take the min distance, if any remain.\n",
        "  1. For all traces that have had collisions, mark them as consumed.\n"
      ],
      "metadata": {
        "id": "SfEslF-KHCjd"
      }
    },
    {
      "cell_type": "code",
      "source": [
        "# Let's validate the maths for computing the intersection point\n",
        "A_origin = np.array([3, -1])\n",
        "B_origin = np.array([0, 0])\n",
        "B_direction = np.array([0.5, 0.5])\n",
        "delta_origin = A_origin - B_origin\n",
        "t = np.dot(delta_origin, B_direction) / np.dot(B_direction, B_direction)\n",
        "intersection = B_origin + t * B_direction\n",
        "print(f\"intersection: {intersection}, t: {t}\")"
      ],
      "metadata": {
        "colab": {
          "base_uri": "https://localhost:8080/"
        },
        "id": "jsKNls-x5abf",
        "outputId": "2074de51-a407-4e45-f8e2-dfd3ae83945e"
      },
      "execution_count": 95,
      "outputs": [
        {
          "output_type": "stream",
          "name": "stdout",
          "text": [
            "intersection: [1. 1.], t: 2.0\n"
          ]
        }
      ]
    },
    {
      "cell_type": "code",
      "source": [
        "# Now we'll use that to compute the collision points\n",
        "def find_collision(start, direction, pixels):\n",
        "  \"\"\"\n",
        "  Finds the closest collision, if any, between a trace and a collection of pixels.\n",
        "\n",
        "  Arguments:\n",
        "  - start: array(1,2) = [x,y]\n",
        "      Starting point of trace\n",
        "  - direction: array(1,2) = (dx,dy)\n",
        "      Direction of trace (any scale)\n",
        "  - pixels: dict{pixel_coords, pixel_values} an entry as produced by construct_nn_grid()\n",
        "\n",
        "  Returns tuple containing:\n",
        "  - intersection: array(1,2)=[x,y]\n",
        "      Coord of intersection, or nan otherwise\n",
        "  - distance: float\n",
        "      Trace distance from start to intersection point, or nan otherwise\n",
        "  - pixel_coord: array(1,2)=[x,y]\n",
        "  - pixel_value: bool or float\n",
        "  \"\"\"\n",
        "  intersection = np.nan\n",
        "  distance = np.nan\n",
        "  pixel_coord = np.nan\n",
        "  pixel_value = np.nan\n",
        "\n",
        "  # compute intersection points with all pixels\n",
        "  pixel_coords = pixels['pixel_coords']\n",
        "  pixel_values = pixels['pixel_values']\n",
        "  #print(f\"pixel_coords: {pixel_coords.shape}\")\n",
        "  pixel_radius = math.sqrt(0.5)  # diagonal distance from centre of pixel to corner\n",
        "  pixel_direction = [direction[1], -direction[0]]  # for line through pixel centre, make it orthogonal to the trace line\n",
        "  pixel_direction = pixel_direction / np.linalg.norm(pixel_direction) * pixel_radius   # rescale to be multiplies of pixel_radius\n",
        "  delta_origin = start - pixel_coords\n",
        "  t = np.dot(delta_origin, pixel_direction) / np.dot(pixel_direction, pixel_direction)\n",
        "\n",
        "  # filter\n",
        "  # - intersection point must be within pixel_radius from pixel_centre (|t| <= 1.0)\n",
        "  filter = abs(t) <= 1.0\n",
        "  #print(f\"filter: {filter}\")\n",
        "  if np.sum(filter) > 0:\n",
        "    intersections = pixel_coords[filter] + t[filter].reshape(-1,1) * pixel_direction\n",
        "    distances = np.linalg.norm(intersections - start, axis=1)\n",
        "    #print(f\"pixel_direction: {pixel_direction}\")\n",
        "    #print(f\"delta_origin: {delta_origin}\")\n",
        "    #print(f\"t: {t}\")\n",
        "    #print(f\"intersections: {intersections}\")\n",
        "    #print(f\"distances: {distances}\")\n",
        "    idx = np.argmin(distances)\n",
        "    #print(f\"idx: {idx}\")\n",
        "    intersection = intersections[idx]\n",
        "    distance = distances[idx]\n",
        "    pixel_coord = pixel_coords[filter][idx]\n",
        "    pixel_value = pixel_values[filter][idx]\n",
        "\n",
        "  return (intersection, distance, pixel_coord, pixel_value)\n",
        "\n",
        "def find_collision_test():\n",
        "  grid_entry = {\n",
        "      'pixel_coords': np.array([[10.5, 10.5],\n",
        "                                [11.5, 11.5],\n",
        "                                [12.5, 10.5]]),\n",
        "      'pixel_values': np.array([True, True, True])\n",
        "  }\n",
        "  print(find_collision(np.array([-1.0,0]), np.array([1, 1]), grid_entry))\n",
        "  print(find_collision(np.array([10,0]), np.array([1, 1]), grid_entry))\n",
        "\n",
        "find_collision_test()"
      ],
      "metadata": {
        "colab": {
          "base_uri": "https://localhost:8080/"
        },
        "id": "dAHKDRWW6BIk",
        "outputId": "a492fe73-ac34-41f1-9719-2e8a0391adc7"
      },
      "execution_count": 149,
      "outputs": [
        {
          "output_type": "stream",
          "name": "stdout",
          "text": [
            "(array([10., 11.]), 15.556349186104045, array([10.5, 10.5]), True)\n",
            "(nan, nan, nan, nan)\n"
          ]
        }
      ]
    },
    {
      "cell_type": "code",
      "source": [
        "np.min(np.array([2]))"
      ],
      "metadata": {
        "colab": {
          "base_uri": "https://localhost:8080/"
        },
        "id": "BYuPfqi-AatL",
        "outputId": "800f7338-bd1f-419e-889a-d4b8399c0980"
      },
      "execution_count": 122,
      "outputs": [
        {
          "output_type": "execute_result",
          "data": {
            "text/plain": [
              "2"
            ]
          },
          "metadata": {},
          "execution_count": 122
        }
      ]
    },
    {
      "cell_type": "code",
      "source": [
        "# Function to compute a lookup grid of pixels\n",
        "def construct_nn_grid(data, grid_size, grid_radius=None, **kwargs):\n",
        "  \"\"\"\n",
        "  Constructs a lookup array populated with lists of nearest-neighbour pixels\n",
        "  located within circular regions around a grid of centres.\n",
        "\n",
        "  Parameters:\n",
        "  - data: array(r,c) of bool or float\n",
        "      An image that represents a 2D world of pixel-sized objects having a single floating value each.\n",
        "  - grid_size: float\n",
        "      The spacing between each centre.\n",
        "  - grid_radius: float, optional (default: same as grid_size)\n",
        "      The radius of each circular region.\n",
        "\n",
        "  Keyword args:\n",
        "  - nothing_value: float, optional (default: 0.0).\n",
        "      The data value that indicates nothing is present at the pixel.\n",
        "      All other values are treated as pixels.\n",
        "\n",
        "  Returns:\n",
        "  - 2-array of dicts {count: int, pixel_coords: array(N,2), pixel_values: array(N,)}\n",
        "      Constructed grid of nearest-neighbour results.\n",
        "      Each array position lists the number of non-empty pixels, their coordinates\n",
        "      as [[x,y]], and their values.\n",
        "  \"\"\"\n",
        "\n",
        "  # setup\n",
        "  grid_radius = grid_radius or grid_size\n",
        "  nothing_value = kwargs.get('nothing_value', 0.0)\n",
        "  max_x = data.shape[1] - 1\n",
        "  max_y = data.shape[0] - 1\n",
        "  rows = math.ceil(data.shape[0] / grid_radius) + 1   # so that ceil(len/radius) is last index\n",
        "  cols = math.ceil(data.shape[1] / grid_radius) + 1   # so that ceil(len/radius) is last index\n",
        "  grid = np.empty((rows,cols), dtype=object)\n",
        "\n",
        "  for yi in range(rows):\n",
        "    for xi in range(cols):\n",
        "      # identify grid location\n",
        "      centre_x = xi * grid_size\n",
        "      centre_y = yi * grid_size\n",
        "      left = max(0, centre_x - grid_radius)       # inclusive\n",
        "      right = min(max_x, centre_x + grid_radius)  # inclusive\n",
        "      top = max(0, centre_y - grid_radius)        # inclusive\n",
        "      bottom = min(max_y, centre_y + grid_radius) # inclusive\n",
        "\n",
        "      # fetch square-shaped block\n",
        "      # (pixel coordinates are computed at their centres)\n",
        "      pixel_values = data[top:bottom+1, left:right+1].ravel()\n",
        "      xs, ys = np.meshgrid(np.arange(left+0.5, right+1.5), np.arange(top+0.5, bottom+1.5), indexing='xy')\n",
        "      pixel_coords = np.column_stack((xs.ravel(), ys.ravel()))\n",
        "\n",
        "      # filter block: remove all empty pixels\n",
        "      filter = pixel_values != nothing_value\n",
        "      pixel_values = pixel_values[filter]\n",
        "      pixel_coords = pixel_coords[filter]\n",
        "\n",
        "      # filter block: remove everything outside of grid_radius\n",
        "      filter = np.sum((pixel_coords - [centre_x, centre_y])**2, axis=1) <= grid_radius**2\n",
        "      pixel_values = pixel_values[filter]\n",
        "      pixel_coords = pixel_coords[filter]\n",
        "\n",
        "      grid[yi,xi] = {\n",
        "        'count': pixel_values.shape[0],\n",
        "        'pixel_coords': pixel_coords,\n",
        "        'pixel_values': pixel_values\n",
        "      }\n",
        "  return grid\n",
        "\n",
        "def construct_nn_grid_test():\n",
        "  grid = construct_nn_grid(arch, 5)\n",
        "  print(f\"grid: {grid.shape}\")\n",
        "  print(f\"counts:\")\n",
        "  print(np.array([[grid[r, c]['count'] for c in range(grid.shape[1])] for r in range(grid.shape[0])]))\n",
        "  print(f\"At position (0,0): values={grid[0,0]['pixel_values']}, coords={grid[0,0]['pixel_coords']}\")\n",
        "  print(f\"At position (0,11): values={grid[0,11]['pixel_values']}, coords={grid[0,11]['pixel_coords']}\")\n",
        "\n",
        "construct_nn_grid_test()"
      ],
      "metadata": {
        "colab": {
          "base_uri": "https://localhost:8080/"
        },
        "id": "IHGXuAWeYonP",
        "outputId": "e0170b9f-62b0-4821-a808-e9f5c9d0d5e7"
      },
      "execution_count": 63,
      "outputs": [
        {
          "output_type": "stream",
          "name": "stdout",
          "text": [
            "grid: (18, 20)\n",
            "counts:\n",
            "[[ 0  0  0  0  0  0  0  0  0  0  0  4  8  8  6  0  0  0  0  0]\n",
            " [ 0  0  0  0  0  0  0  0  0  0  0 12 14 10 13 12  8  9  5  0]\n",
            " [ 0  0  0  0  0  0  0  0  0  0  7 10  4  0  6  8  8 14 10  0]\n",
            " [ 0  0  0  0  0  0  0  0  0  6  7  4  0  0  0  0  0  8 10  0]\n",
            " [ 0  0  0  0  0  0  0  0  5  8  4  0  0  0  7 10  0  8 10  0]\n",
            " [ 0  0  0  0  0  0  0  0  8  9  0  0  0  0 19 20  0  8 10  0]\n",
            " [ 1  4  4  4  4  4  4  4 12  8  0  0  0  0  4  6  0  8 10  0]\n",
            " [ 4  9 10 10 10 10 10 10 11  6  0  0  0  0  0  0  1 14 11  0]\n",
            " [ 0  0  0  0  0  0  0  0  0  0  0  0  0  0  0  0  7 14  7  0]\n",
            " [ 0  0  0  0  0  0  0  0  0  0  0  0  0  0  0  0  8 10  0  0]\n",
            " [ 3  8  8  8  8  8  8  8  7  2  0  0  0  0  0  0  8 13  1  0]\n",
            " [ 4  9 10 10 10 10 10 10 13  8  0  0  0  0  0  0  5 14  9  0]\n",
            " [ 0  0  0  0  0  0  0  0  8  8  0 20 38 15 10 32 15  8 10  0]\n",
            " [ 0  0  0  0  0  0  0  0  8  8  0 34 64 26 18 53 26  8 10  0]\n",
            " [ 0  0  0  0  0  0  0  0  8  8  0 10 20  7  4 18  7  8  9  0]\n",
            " [ 0  0  0  0  0  0  0  0  8 12  4  4  4  4  4  4  6 11  7  0]\n",
            " [ 0  0  0  0  0  0  0  0  6 11 10 10 10 10 10 10  9  8  1  0]\n",
            " [ 0  0  0  0  0  0  0  0  0  0  0  0  0  0  0  0  0  0  0  0]]\n",
            "At position (0,0): values=[], coords=[]\n",
            "At position (0,11): values=[ True  True  True  True], coords=[[56.5  3.5]\n",
            " [57.5  3.5]\n",
            " [58.5  3.5]\n",
            " [56.5  4.5]]\n"
          ]
        }
      ]
    },
    {
      "cell_type": "code",
      "source": [
        "# Function to generate LDS Data from an architectural image.\n",
        "def lds_sample(data, centre, angle=0.0, **kwargs):\n",
        "  \"\"\"\n",
        "  Generates LDS data sampled from a given centre position within an architectural image.\n",
        "  LDS data represents a sampling across a 360 degree clockwise spread, starting on the requested angle.\n",
        "\n",
        "  Parameters:\n",
        "  - data: array (r,c) of bool or float\n",
        "      Architectural image\n",
        "  - centre: [x,y] of float\n",
        "      Point from which LDS sample is taken\n",
        "  - angle: radians\n",
        "      Starting angle of LDS sample\n",
        "\n",
        "  Keyword args:\n",
        "  - resolution: int, default: 1 degree (360 traces)\n",
        "      Angle between each trace.\n",
        "  - step_size: float, default: 5\n",
        "      Position increment used by traces, in their direction.\n",
        "  - max_distance: float, default: 100\n",
        "\n",
        "  Returns:\n",
        "  - array (resolution,) of float\n",
        "      LDS data for each sample angle, or NaN for no hit\n",
        "  \"\"\"\n",
        "\n",
        "  # load options\n",
        "  resolution = kwargs.get('resolution', np.deg2rad(1.0))\n",
        "  step_size = kwargs.get('step_size', 5)\n",
        "  max_distance = kwargs.get('max_distance', 100)\n",
        "\n",
        "  # initialise cache\n",
        "  grid_size=step_size\n",
        "  grid = construct_nn_grid(data, grid_size, grid_radius=step_size)\n",
        "  grid_counts = np.array([[grid[r, c]['count'] for c in range(grid.shape[1])] for r in range(grid.shape[0])])\n",
        "\n",
        "  # initialise traces\n",
        "  num_traces = int(np.round(2 * np.pi / resolution))\n",
        "  angles = np.linspace(0, np.pi*2, num=num_traces, endpoint=False) + angle\n",
        "  ranges = np.full((num_traces,), np.nan)\n",
        "  steps = np.column_stack((np.cos(angles), np.sin(angles))) * step_size\n",
        "  max_x = data.shape[1] - 1\n",
        "  max_y = data.shape[0] - 1\n",
        "\n",
        "  #print(f\"Initialised:\")\n",
        "  #print(f\" - starting angle: {angle} ({np.rad2deg(angle)} degrees)\")\n",
        "  #print(f\" - grid:        {grid.shape}\")\n",
        "  #print(f\" - angles:      {angles.shape}\")\n",
        "  #print(f\" - ranges:      {angles.shape}\")\n",
        "  #print(f\" - steps:       {steps.shape}\")\n",
        "  #print(f\" - max:         x={max_x}, y={max_y}\")\n",
        "\n",
        "  for stepi in range(math.ceil(max_distance / step_size)):\n",
        "    #print(\"------\")\n",
        "    # increment all points\n",
        "    #points = steps\n",
        "    points = steps * stepi + centre\n",
        "    dist = stepi * step_size\n",
        "    #print(f\"dist: {dist}\")\n",
        "    #print(f\"step: {stepi}, dist: {dist}\")\n",
        "\n",
        "    # identify applicable grid blocks and which to traces to execute against\n",
        "    #  - filter: only process for traces that haven't already been consumed\n",
        "    #  - filter: don't go outside bounds of data\n",
        "    #  - filter: ignore grid blocks with no pixels\n",
        "    grid_xs = np.round(points[:,0] / grid_size).astype(int)\n",
        "    grid_ys = np.round(points[:,1] / grid_size).astype(int)\n",
        "    #print(f\"grid_idxs: {grid_idxs.shape}\")\n",
        "    #print(f\"grid_idxs: {grid_idxs[:10,:]}\")\n",
        "    filter = np.isnan(ranges)\n",
        "    #print(f\"filter: {filter.shape} = #{np.sum(filter)}\")\n",
        "    filter &= (points[:,0] >= 0) & (points[:,0] <= max_x)\n",
        "    filter &= (points[:,1] >= 0) & (points[:,1] <= max_y)\n",
        "    #print(f\"filter: {filter.shape} = #{np.sum(filter)}\")\n",
        "    if np.sum(filter) == 0:\n",
        "      continue # skip if there's nothing to do\n",
        "    #print(f\"points: x={np.min(points[:,0])}-{np.max(points[:,0])}, y={np.min(points[:,1])}-{np.max(points[:,1])}, #>max={np.sum(points[:,0] > max_x)}\")\n",
        "    #print(f\"points[filtered]: x={np.min(points[filter,0])}-{np.max(points[filter,0])}, y={np.min(points[filter,1])}-{np.max(points[filter,1])}\")\n",
        "    #print(f\"filtered: {np.transpose(grid_idxs[filter,:]).shape}\")\n",
        "    #print(f\"filtered: {len(tuple(np.transpose(grid_idxs[filter,:])))}\")\n",
        "    #print(f\"grid: x={np.min(grid_xs[filter])}-{np.max(grid_xs[filter])}, y={np.min(grid_ys[filter])}-{np.max(grid_ys[filter])}\")\n",
        "    has_counts = grid_counts[(grid_ys[filter], grid_xs[filter])] > 0\n",
        "    #print(f\"has_counts: {has_counts.shape} = #{np.sum(has_counts)}\")\n",
        "    filter[filter] = has_counts\n",
        "    if np.sum(filter) == 0:\n",
        "      continue # skip if there's nothing to do\n",
        "    #print(f\"filter: {filter.shape} = #{np.sum(filter)}\")\n",
        "\n",
        "    # process each accepted block\n",
        "    for idx in np.where(filter)[0]:\n",
        "      intersection, distance, pixel_coord, pixel_value = find_collision(centre, steps[idx], grid[grid_ys[idx], grid_xs[idx]])\n",
        "      #print(f\"min_dist: {distance}\")\n",
        "      if not np.isnan(distance):\n",
        "        ranges[idx] = distance\n",
        "\n",
        "\n",
        "  # truncate ranges to max distance\n",
        "  ranges[ranges > max_distance] = np.nan\n",
        "\n",
        "  return ranges\n",
        "\n",
        "\n",
        "def lds_sample_test():\n",
        "  print(f\"loc={loc}\")\n",
        "  r = lds_sample(arch, loc, np.deg2rad(0.0), max_distance=50)\n",
        "  print(f\"r: {r.shape}\")\n",
        "  print(f\"range: {np.min(r)} - {np.max(r)}\")\n",
        "  print(f\"number of nan's: {np.sum(np.isnan(r))}\")\n",
        "  print(f\"first few: {r[0:50]}\")\n",
        "\n",
        "lds_sample_test()"
      ],
      "metadata": {
        "colab": {
          "base_uri": "https://localhost:8080/"
        },
        "id": "o0xWeuLyDgKx",
        "outputId": "b94def5d-d9cc-41ae-e1ab-3af865a8d75d"
      },
      "execution_count": 169,
      "outputs": [
        {
          "output_type": "stream",
          "name": "stdout",
          "text": [
            "loc=(60, 25)\n",
            "r: (360,)\n",
            "range: nan - nan\n",
            "number of nan's: 34\n",
            "first few: [11.5        11.48952229 11.51044426 11.51040763 11.50686481 11.4998169\n",
            " 11.48926603 11.59708476 11.59684244 11.59306761 11.58576143 29.0258242\n",
            " 29.02072092 29.2317287  29.22592052 29.47002889 29.4632385  29.73984504\n",
            " 30.04077216 30.04017687 30.3724512  30.36990563 30.73271568 30.7277963\n",
            " 31.12025358 30.62881068 29.73605271 28.84953811 27.97008212 27.09849299\n",
            " 27.10159699 27.09644558 27.61295959 27.60602435 28.14987296 28.71408424\n",
            " 28.71035603 29.29969739 29.29232853 29.90535733 30.5364028  30.5288262\n",
            " 31.18108083 31.84977673 32.53429864 32.52691193 33.22895701 33.94512715\n",
            " 34.6747623  35.41719106]\n"
          ]
        }
      ]
    },
    {
      "cell_type": "code",
      "source": [
        "# Returns:\n",
        "#   - list of coordinates in 2D space (omits nans)\n",
        "def lds_to_2d(ranges, centre, angle):\n",
        "  angles = np.linspace(0, np.pi*2, num=360, endpoint=False) + angle\n",
        "\n",
        "  steps_x = np.cos(angles).reshape(-1,1)\n",
        "  steps_y = np.sin(angles).reshape(-1,1)\n",
        "  steps = np.hstack((steps_x, steps_y))\n",
        "  points = steps * ranges.reshape(-1,1) + centre\n",
        "  return points\n",
        "\n",
        "def lds_to_2d_test():\n",
        "  o = lds_to_2d(lds_sample(arch, loc, 0.0), loc, 0.0)\n",
        "  print(f\"o: {o.shape}\")\n",
        "  print(f\"x range: {np.min(o[:,0])} - {np.max(o[:,0])}\")\n",
        "  print(f\"y range: {np.min(o[:,1])} - {np.max(o[:,1])}\")\n",
        "  print(f\"first 10: {o[0:10,:]}\")\n",
        "\n",
        "lds_to_2d_test()"
      ],
      "metadata": {
        "colab": {
          "base_uri": "https://localhost:8080/"
        },
        "id": "F-v2DLW3DwpX",
        "outputId": "ebf392b8-6f45-4429-ee38-c5183d4d2177"
      },
      "execution_count": 170,
      "outputs": [
        {
          "output_type": "stream",
          "name": "stdout",
          "text": [
            "o: (360, 2)\n",
            "x range: 13.252782966988335 - 88.58052342908628\n",
            "y range: 3.4672665791053348 - 79.48284941844673\n",
            "first 10: [[71.5        25.        ]\n",
            " [71.48777238 25.20051981]\n",
            " [71.50343241 25.40170871]\n",
            " [71.49463301 25.60240819]\n",
            " [71.47883467 25.80267831]\n",
            " [71.45605662 26.00227508]\n",
            " [71.42632663 26.20095532]\n",
            " [71.51064185 26.4133291 ]\n",
            " [71.48398277 26.61396852]\n",
            " [71.45033771 26.81355533]]\n"
          ]
        }
      ]
    },
    {
      "cell_type": "code",
      "source": [
        "# Plot results\n",
        "# (note that imshow treates pixels as centered on their coordinate, and spanning range (-0.5,+0.5), so the coordinates have to be adjusted by adding (-0.5,-0.5) when overlaying)\n",
        "loc = (60, 25)\n",
        "loc = (80, 10)\n",
        "points = lds_to_2d(lds_sample(arch, loc, 0.0), loc, 0.0)\n",
        "print(f\"points: {points.shape}\")\n",
        "plt.figure(figsize=(10, 10))\n",
        "plt.imshow(arch, cmap='gray')\n",
        "#for x, y in points:\n",
        "#  plt.plot([loc[0]-0.5, x-0.5], [loc[1]-0.5, y-0.5], color='grey', linewidth=0.5)\n",
        "plt.scatter(loc[0]-0.5, loc[1]-0.5, c='r', s=10)\n",
        "plt.scatter(56-0.5, 3-0.5, c='r', s=10)\n",
        "plt.scatter(points[:,0]-0.5, points[:,1]-0.5, c='b', s=10)\n",
        "plt.show()"
      ],
      "metadata": {
        "colab": {
          "base_uri": "https://localhost:8080/",
          "height": 771
        },
        "id": "gGAQTnPWMyow",
        "outputId": "05b66523-129d-4133-d67a-77b803306121"
      },
      "execution_count": 186,
      "outputs": [
        {
          "output_type": "stream",
          "name": "stdout",
          "text": [
            "points: (360, 2)\n"
          ]
        },
        {
          "output_type": "display_data",
          "data": {
            "text/plain": [
              "<Figure size 1000x1000 with 1 Axes>"
            ],
            "image/png": "[encoded data removed]"
          },
          "metadata": {}
        }
      ]
    },
    {
      "cell_type": "code",
      "source": [],
      "metadata": {
        "id": "H1LwWXbvcntb"
      },
      "execution_count": null,
      "outputs": []
    }
  ]
}