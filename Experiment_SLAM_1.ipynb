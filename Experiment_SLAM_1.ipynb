{
  "nbformat": 4,
  "nbformat_minor": 0,
  "metadata": {
    "colab": {
      "provenance": [],
      "gpuType": "T4",
      "authorship_tag": "ABX9TyMEu3iNxDRRXjvP7+MU/YQt",
      "include_colab_link": true
    },
    "kernelspec": {
      "name": "python3",
      "display_name": "Python 3"
    },
    "language_info": {
      "name": "python"
    },
    "accelerator": "GPU"
  },
  "cells": [
    {
      "cell_type": "markdown",
      "metadata": {
        "id": "view-in-github",
        "colab_type": "text"
      },
      "source": [
        "<a href=\"https://colab.research.google.com/github/malcolmlett/robovac/blob/main/Experiment_SLAM_1.ipynb\" target=\"_parent\"><img src=\"https://colab.research.google.com/assets/colab-badge.svg\" alt=\"Open In Colab\"/></a>"
      ]
    },
    {
      "cell_type": "code",
      "execution_count": null,
      "metadata": {
        "id": "kyzFFlQnYyps"
      },
      "outputs": [],
      "source": []
    },
    {
      "cell_type": "markdown",
      "source": [
        "# Experiment: SLAM (v4)\n",
        "This notebook is the first step towards building up to a real SLAM model.\n",
        "It focuses on proving out the model architecture, without going into too much w.r.t. proper data generation."
      ],
      "metadata": {
        "id": "-nS9kp-mY5CL"
      }
    },
    {
      "cell_type": "code",
      "source": [
        "import os\n",
        "if os.path.isdir('repo'):\n",
        "  # discard any local changes and update\n",
        "  !cd repo && git reset --hard HEAD\n",
        "  !cd repo && git fetch\n",
        "else:\n",
        "  !git clone https://github.com/malcolmlett/robovac.git repo\n",
        "\n",
        "# lock to revision\n",
        "#!cd repo && git checkout 63bcc74\n",
        "!cd repo && git pull\n",
        "\n",
        "import sys\n",
        "sys.path.append('repo')\n",
        "\n",
        "import lds\n",
        "import map_from_lds_train_data\n",
        "import slam\n",
        "from importlib import reload\n",
        "reload(lds)\n",
        "reload(map_from_lds_train_data)\n",
        "reload(slam)"
      ],
      "metadata": {
        "colab": {
          "base_uri": "https://localhost:8080/"
        },
        "id": "QjGZ4D5CZFBl",
        "outputId": "023a5719-2a73-4292-dc5c-7088703c34d7"
      },
      "execution_count": 4,
      "outputs": [
        {
          "output_type": "stream",
          "name": "stdout",
          "text": [
            "HEAD is now at 41d234e Locked to revision\n",
            "remote: Enumerating objects: 17, done.\u001b[K\n",
            "remote: Counting objects: 100% (17/17), done.\u001b[K\n",
            "remote: Compressing objects: 100% (6/6), done.\u001b[K\n",
            "remote: Total 12 (delta 4), reused 12 (delta 4), pack-reused 0 (from 0)\u001b[K\n",
            "Unpacking objects: 100% (12/12), 10.47 KiB | 255.00 KiB/s, done.\n",
            "From https://github.com/malcolmlett/robovac\n",
            "   41d234e..84e6a0c  main       -> origin/main\n",
            "Updating 41d234e..84e6a0c\n",
            "Fast-forward\n",
            " data/experimental-floorplan2.pdn                                | Bin \u001b[31m0\u001b[m -> \u001b[32m11215\u001b[m bytes\n",
            " data/experimental-floorplan2.png                                | Bin \u001b[31m0\u001b[m -> \u001b[32m1851\u001b[m bytes\n",
            " ..._2024-10-10-11-42-09-85_89ed83f5c7ca8fa2c91fc75c50289338.jpg | Bin \u001b[31m306693\u001b[m -> \u001b[32m0\u001b[m bytes\n",
            " ..._2024-10-10-11-42-45-65_89ed83f5c7ca8fa2c91fc75c50289338.jpg | Bin \u001b[31m341005\u001b[m -> \u001b[32m0\u001b[m bytes\n",
            " ..._2024-10-10-11-43-34-83_89ed83f5c7ca8fa2c91fc75c50289338.jpg | Bin \u001b[31m340516\u001b[m -> \u001b[32m0\u001b[m bytes\n",
            " ..._2024-10-10-11-45-03-20_89ed83f5c7ca8fa2c91fc75c50289338.jpg | Bin \u001b[31m340089\u001b[m -> \u001b[32m0\u001b[m bytes\n",
            " ..._2024-10-10-11-48-26-03_89ed83f5c7ca8fa2c91fc75c50289338.jpg | Bin \u001b[31m307536\u001b[m -> \u001b[32m0\u001b[m bytes\n",
            " ..._2024-10-10-11-48-38-72_89ed83f5c7ca8fa2c91fc75c50289338.jpg | Bin \u001b[31m335670\u001b[m -> \u001b[32m0\u001b[m bytes\n",
            " ..._2024-10-10-11-48-45-40_89ed83f5c7ca8fa2c91fc75c50289338.jpg | Bin \u001b[31m333794\u001b[m -> \u001b[32m0\u001b[m bytes\n",
            " ..._2024-10-10-11-49-20-13_89ed83f5c7ca8fa2c91fc75c50289338.jpg | Bin \u001b[31m334044\u001b[m -> \u001b[32m0\u001b[m bytes\n",
            " ..._2024-10-10-11-49-46-10_89ed83f5c7ca8fa2c91fc75c50289338.jpg | Bin \u001b[31m339417\u001b[m -> \u001b[32m0\u001b[m bytes\n",
            " ..._2024-10-10-11-49-49-78_89ed83f5c7ca8fa2c91fc75c50289338.jpg | Bin \u001b[31m308846\u001b[m -> \u001b[32m0\u001b[m bytes\n",
            " misc/app-screenshots/resolution-measurements.jpg                | Bin \u001b[31m340089\u001b[m -> \u001b[32m0\u001b[m bytes\n",
            " misc/app-screenshots/resolution-measurements.pdn                | Bin \u001b[31m436332\u001b[m -> \u001b[32m0\u001b[m bytes\n",
            " misc/images/Screenshot 2024-10-10 135840.png                    | Bin \u001b[31m356038\u001b[m -> \u001b[32m0\u001b[m bytes\n",
            " misc/images/Screenshot 2024-10-10 135854.png                    | Bin \u001b[31m580389\u001b[m -> \u001b[32m0\u001b[m bytes\n",
            " misc/images/Screenshot 2024-10-10 135931.png                    | Bin \u001b[31m887808\u001b[m -> \u001b[32m0\u001b[m bytes\n",
            " misc/images/Screenshot 2024-10-10 140359.png                    | Bin \u001b[31m51357\u001b[m -> \u001b[32m0\u001b[m bytes\n",
            " misc/images/Screenshot 2024-10-10 140506.png                    | Bin \u001b[31m66790\u001b[m -> \u001b[32m0\u001b[m bytes\n",
            " slam.py                                                         |  39 \u001b[32m+++++++++++++++++\u001b[m\u001b[31m-----------\u001b[m\n",
            " 20 files changed, 24 insertions(+), 15 deletions(-)\n",
            " create mode 100644 data/experimental-floorplan2.pdn\n",
            " create mode 100644 data/experimental-floorplan2.png\n",
            " delete mode 100644 misc/app-screenshots/Screenshot_2024-10-10-11-42-09-85_89ed83f5c7ca8fa2c91fc75c50289338.jpg\n",
            " delete mode 100644 misc/app-screenshots/Screenshot_2024-10-10-11-42-45-65_89ed83f5c7ca8fa2c91fc75c50289338.jpg\n",
            " delete mode 100644 misc/app-screenshots/Screenshot_2024-10-10-11-43-34-83_89ed83f5c7ca8fa2c91fc75c50289338.jpg\n",
            " delete mode 100644 misc/app-screenshots/Screenshot_2024-10-10-11-45-03-20_89ed83f5c7ca8fa2c91fc75c50289338.jpg\n",
            " delete mode 100644 misc/app-screenshots/Screenshot_2024-10-10-11-48-26-03_89ed83f5c7ca8fa2c91fc75c50289338.jpg\n",
            " delete mode 100644 misc/app-screenshots/Screenshot_2024-10-10-11-48-38-72_89ed83f5c7ca8fa2c91fc75c50289338.jpg\n",
            " delete mode 100644 misc/app-screenshots/Screenshot_2024-10-10-11-48-45-40_89ed83f5c7ca8fa2c91fc75c50289338.jpg\n",
            " delete mode 100644 misc/app-screenshots/Screenshot_2024-10-10-11-49-20-13_89ed83f5c7ca8fa2c91fc75c50289338.jpg\n",
            " delete mode 100644 misc/app-screenshots/Screenshot_2024-10-10-11-49-46-10_89ed83f5c7ca8fa2c91fc75c50289338.jpg\n",
            " delete mode 100644 misc/app-screenshots/Screenshot_2024-10-10-11-49-49-78_89ed83f5c7ca8fa2c91fc75c50289338.jpg\n",
            " delete mode 100644 misc/app-screenshots/resolution-measurements.jpg\n",
            " delete mode 100644 misc/app-screenshots/resolution-measurements.pdn\n",
            " delete mode 100644 misc/images/Screenshot 2024-10-10 135840.png\n",
            " delete mode 100644 misc/images/Screenshot 2024-10-10 135854.png\n",
            " delete mode 100644 misc/images/Screenshot 2024-10-10 135931.png\n",
            " delete mode 100644 misc/images/Screenshot 2024-10-10 140359.png\n",
            " delete mode 100644 misc/images/Screenshot 2024-10-10 140506.png\n"
          ]
        },
        {
          "output_type": "execute_result",
          "data": {
            "text/plain": [
              "<module 'slam' from '/content/repo/slam.py'>"
            ]
          },
          "metadata": {},
          "execution_count": 4
        }
      ]
    },
    {
      "cell_type": "code",
      "source": [
        "!pip install -Uqq ipdb\n",
        "\n",
        "import numpy as np\n",
        "import pandas as pd\n",
        "import matplotlib.pyplot as plt\n",
        "import tensorflow as tf\n",
        "from PIL import Image\n",
        "import io\n",
        "import cv2\n",
        "import requests\n",
        "import math\n",
        "import ipdb\n",
        "from timeit import default_timer as timer"
      ],
      "metadata": {
        "colab": {
          "base_uri": "https://localhost:8080/"
        },
        "id": "oD8Acvh7aHRD",
        "outputId": "0b51d4d9-ac37-44b8-da90-d58adfc4b958"
      },
      "execution_count": 2,
      "outputs": [
        {
          "output_type": "stream",
          "name": "stdout",
          "text": [
            "\u001b[?25l   \u001b[90m━━━━━━━━━━━━━━━━━━━━━━━━━━━━━━━━━━━━━━━━\u001b[0m \u001b[32m0.0/1.6 MB\u001b[0m \u001b[31m?\u001b[0m eta \u001b[36m-:--:--\u001b[0m\r\u001b[2K   \u001b[91m━━━━━━━━━━━━━━━━━━━━━━━━━━━━━━━━━━━━━━━\u001b[0m\u001b[91m╸\u001b[0m \u001b[32m1.6/1.6 MB\u001b[0m \u001b[31m54.5 MB/s\u001b[0m eta \u001b[36m0:00:01\u001b[0m\r\u001b[2K   \u001b[90m━━━━━━━━━━━━━━━━━━━━━━━━━━━━━━━━━━━━━━━━\u001b[0m \u001b[32m1.6/1.6 MB\u001b[0m \u001b[31m34.4 MB/s\u001b[0m eta \u001b[36m0:00:00\u001b[0m\n",
            "\u001b[?25h"
          ]
        }
      ]
    },
    {
      "cell_type": "markdown",
      "source": [
        "## Helper functions\n"
      ],
      "metadata": {
        "id": "vGXtpIiVaQPP"
      }
    },
    {
      "cell_type": "code",
      "source": [
        "def display_history(history):\n",
        "  plt.figure(figsize=(11,3))\n",
        "  plt.subplot(1,2,1)\n",
        "  plt.plot(model_history.history[\"loss\"])\n",
        "  plt.title(\"Loss\")\n",
        "\n",
        "  plt.subplot(1,2,2)\n",
        "  plt.plot(model_history.history[\"accuracy\"])\n",
        "  plt.title(\"Accuracy\")\n",
        "  plt.show()\n",
        "\n",
        "def show_prediction(display_list, titles):\n",
        "    plt.figure(figsize=(10, 3))\n",
        "\n",
        "    for i in range(len(display_list)):\n",
        "        plt.subplot(1, len(display_list), i+1)\n",
        "        plt.title(titles[i])\n",
        "        plt.imshow(display_list[i], cmap='gray')\n",
        "        plt.axis('off')\n",
        "    plt.show()\n",
        "\n",
        "def show_predictions(model, dataset, num=1, show_probs=True):\n",
        "    \"\"\"\n",
        "    Displays the first image of each of the num batches\n",
        "    \"\"\"\n",
        "    for image, ground_truth in dataset.take(num):\n",
        "        batch = np.expand_dims(image, axis=0)\n",
        "        batch_pred = model.predict(batch)\n",
        "        pred = tf.argmax(batch_pred, axis=-1)[0]\n",
        "\n",
        "        if show_probs:\n",
        "          # showing full details\n",
        "          print(f\"Class 0 logit range - {tf.reduce_min(batch_pred[..., 0])}, {tf.reduce_max(batch_pred[..., 0])}\")\n",
        "          print(f\"Class 1 logit range - {tf.reduce_min(batch_pred[..., 1])}, {tf.reduce_max(batch_pred[..., 1])}\")\n",
        "          #probs = tf.nn.softmax(batch_pred[0], axis=-1)\n",
        "          probs = batch_pred[0]  # show the raw logits\n",
        "          class0_prob = probs[:, :, 0]\n",
        "          class1_prob = probs[:, :, 1]\n",
        "          show_prediction(\n",
        "              [image, ground_truth, pred, class0_prob, class1_prob],\n",
        "              ['LDS Data', 'Ground Truth', 'Predicted', 'Class 0', 'Class 1'])\n",
        "        else:\n",
        "          show_prediction([image, ground_truth, pred], ['LDS Data', 'Ground Truth', 'Predicted'])"
      ],
      "metadata": {
        "id": "28MJ8IxjaFR0"
      },
      "execution_count": 5,
      "outputs": []
    },
    {
      "cell_type": "markdown",
      "source": [
        "## Load Floorplan"
      ],
      "metadata": {
        "id": "St0TDXRteD7H"
      }
    },
    {
      "cell_type": "code",
      "source": [
        "def one_hot_encode_floorplan(image):\n",
        "    \"\"\"\n",
        "    Converts an RGB floorplan image into a one-hot encoded tensor of the same form\n",
        "    used as input and output maps in the SLAM model.\n",
        "\n",
        "    Ordered channels are:\n",
        "    - floor (white in the RGB image)\n",
        "    - obstruction (black in the RGB image)\n",
        "    - unknown (grey in the RGB image)\n",
        "\n",
        "    Args:\n",
        "      image: (H,W,3) RGB floorplan image\n",
        "\n",
        "    Returns:\n",
        "      (H,W,C) one-hot encoded tensor of the floorplan image\n",
        "    \"\"\"\n",
        "    # sanity check\n",
        "    if not np.array_equal(np.unique(image), np.array([0, 192, 255])):\n",
        "      raise ValueError(f\"Encountered unexpected values in image, expected [0, 192, 255], got: {np.unique(image)}\")\n",
        "\n",
        "    # get each channel\n",
        "    floor_mask = tf.reduce_all(tf.equal(image, [255, 255, 255]), axis=-1)\n",
        "    obstruction_mask = tf.reduce_all(tf.equal(image, [0, 0, 0]), axis=-1)\n",
        "    unknown_mask = tf.reduce_all(tf.equal(image, [192, 192, 192]), axis=-1)\n",
        "\n",
        "    # Stack the masks along the last dimension to create a one-hot encoded tensor\n",
        "    one_hot_image = tf.stack([floor_mask, obstruction_mask, unknown_mask], axis=-1)\n",
        "\n",
        "    return tf.cast(one_hot_image, tf.float32)"
      ],
      "metadata": {
        "id": "zXgjOXJkeGpm"
      },
      "execution_count": 32,
      "outputs": []
    },
    {
      "cell_type": "code",
      "source": [
        "floorplan = Image.open('repo/data/experimental-floorplan2.png')\n",
        "floorplan = np.array(floorplan, dtype=np.uint8)\n",
        "print(f\"RGB encoded:     shape={floorplan.shape}, dtype={floorplan.dtype}, value range: {np.min(floorplan)} - {np.max(floorplan)}\")\n",
        "\n",
        "floorplan = one_hot_encode_floorplan(floorplan).numpy()\n",
        "print(f\"one-hot encoded: shape={floorplan.shape}, dtype={floorplan.dtype}, value range: {np.min(floorplan)} - {np.max(floorplan)}\")"
      ],
      "metadata": {
        "colab": {
          "base_uri": "https://localhost:8080/"
        },
        "id": "21CAFNY_aBjv",
        "outputId": "08d58d10-3f47-410a-85e3-a10e1ef5cccb"
      },
      "execution_count": 38,
      "outputs": [
        {
          "output_type": "stream",
          "name": "stdout",
          "text": [
            "RGB encoded:     shape=(139, 294, 3), dtype=uint8, value range: 0 - 255\n",
            "one-hot encoded: shape=(139, 294, 3), dtype=float32, value range: 0.0 - 1.0\n"
          ]
        }
      ]
    },
    {
      "cell_type": "code",
      "source": [
        "plt.figure(figsize=(10, 5))\n",
        "\n",
        "plt.subplot(2, 2, 1)\n",
        "plt.imshow(floorplan)\n",
        "plt.axis('off')\n",
        "\n",
        "plt.subplot(2, 2, 2)\n",
        "plt.title('Floor')\n",
        "plt.imshow(floorplan[:,:,0], cmap='gray')\n",
        "plt.axis('off')\n",
        "\n",
        "plt.subplot(2, 2, 3)\n",
        "plt.title('Obstructions')\n",
        "plt.imshow(floorplan[:,:,1], cmap='gray')\n",
        "plt.axis('off')\n",
        "\n",
        "plt.subplot(2, 2, 4)\n",
        "plt.title('Unknown')\n",
        "plt.imshow(floorplan[:,:,2], cmap='gray')\n",
        "#plt.axis('off')"
      ],
      "metadata": {
        "colab": {
          "base_uri": "https://localhost:8080/",
          "height": 476
        },
        "id": "lsQI-h5Ywrly",
        "outputId": "b3cfd126-0248-4b8a-8aed-dffa736af3e6"
      },
      "execution_count": 39,
      "outputs": [
        {
          "output_type": "execute_result",
          "data": {
            "text/plain": [
              "<matplotlib.image.AxesImage at 0x7e96b04ecc70>"
            ]
          },
          "metadata": {},
          "execution_count": 39
        },
        {
          "output_type": "display_data",
          "data": {
            "text/plain": [
              "<Figure size 1000x500 with 4 Axes>"
            ],
            "image/png": "[encoded data removed]"
          },
          "metadata": {}
        }
      ]
    },
    {
      "cell_type": "markdown",
      "source": [
        "## Training data\n",
        "Here we're going to need to generate new training data. The old training data is in the wrong data structure, uses the wrong encoding for our needs, and used a simple floorplan."
      ],
      "metadata": {
        "id": "_F4ZCQQueesp"
      }
    },
    {
      "cell_type": "code",
      "source": [
        "# If generated data is available then load that to save time:\n",
        "loaded = np.load('repo/data/experimental-slam-training-data1.npz')\n",
        "X = loaded['X']\n",
        "Y = loaded['Y']\n",
        "print(f\"X: {len(X)} x {X[0].shape}\")\n",
        "print(f\"Y: {len(Y)} x {Y[0].shape}\")\n",
        "\n",
        "# Make available for training\n",
        "dataset = tf.data.Dataset.from_tensor_slices((X, Y))"
      ],
      "metadata": {
        "colab": {
          "base_uri": "https://localhost:8080/"
        },
        "id": "lTOK1YT0aR37",
        "outputId": "69291505-4b18-4558-b881-c39655e92897"
      },
      "execution_count": 6,
      "outputs": [
        {
          "output_type": "stream",
          "name": "stdout",
          "text": [
            "X: 1000 x (105, 105)\n",
            "Y: 1000 x (105, 105)\n"
          ]
        }
      ]
    },
    {
      "cell_type": "code",
      "source": [
        "reload(map_from_lds_train_data)\n",
        "np.random.seed(0)\n",
        "pixel_size = 4.741\n",
        "location = np.array([100, 100]) * pixel_size\n",
        "\n",
        "ranges = lds.lds_sample(floorplan[:,:,1], location, 0.0, max_distance=350, pixel_size=pixel_size)\n",
        "\n",
        "plt.plot(ranges)\n",
        "plt.show()\n"
      ],
      "metadata": {
        "colab": {
          "base_uri": "https://localhost:8080/",
          "height": 430
        },
        "id": "hiFdH7S6ugID",
        "outputId": "781b0e7d-4a12-443e-d781-542c2a6c96ce"
      },
      "execution_count": 41,
      "outputs": [
        {
          "output_type": "display_data",
          "data": {
            "text/plain": [
              "<Figure size 640x480 with 1 Axes>"
            ],
            "image/png": "[encoded data removed]"
          },
          "metadata": {}
        }
      ]
    },
    {
      "cell_type": "code",
      "source": [
        "def generate_training_data_sample(semantic_map, location, orientation, map_known, believed_orientation, **kwargs):\n",
        "    \"\"\"\n",
        "    :param semantic_map: (H,W,C) = one-hot encoded floorplan\n",
        "    :param location: (float, float) = (x,y) actual location of agent\n",
        "    :param orientation: (float) = radians actual angle of orientation of agent\n",
        "    :param map_known: bool, whether to simulate the agent knowing this section of map or having a blank input map\n",
        "    :param believed_orientation: float or None = radians, agent's belief of its orientation or None if unknown\n",
        "    :param kwargs:\n",
        "    :return:\n",
        "      (input_map, input_lds_image, ground_truth_output_map, ground_truth_output_adlo)\n",
        "    \"\"\"\n",
        "    # config\n",
        "    max_distance = kwargs.get('max_distance', 100)\n",
        "    pixel_size = kwargs.get('pixel_size', 1.0)\n",
        "    #nothing_value = kwargs.get('nothing_value', np.array([1,0,0]))\n",
        "    #occupied_value = kwargs.get('occupied_value', np.array([0,1,0]))\n",
        "    #unknown_value = kwargs.get('occupied_value', np.array([0,0,1]))\n",
        "    window_size_px = np.ceil(max_distance / pixel_size).astype(int) * 2 + 1\n",
        "    window_size_px = np.array([window_size_px, window_size_px])\n",
        "    n_channels = semantic_map.shape[-1]\n",
        "\n",
        "    # take sample\n",
        "    ranges = lds.lds_sample(semantic_map[:,:,1], location, orientation, max_distance=max_distance, pixel_size=pixel_size)\n",
        "    if (np.nanmax(ranges) < pixel_size) or ranges[~np.isnan(ranges)].size == 0:\n",
        "        return None, None, None, None\n",
        "\n",
        "    # generate input map\n",
        "    # (aligned to map pixels, and zero rotation)\n",
        "    location_fpx = location / pixel_size  # sub-pixel resolution (\"float pixels\")\n",
        "    location_px = np.round(location_fpx).astype(int)\n",
        "    location_alignment_offset_fpx = location_fpx - location_px  # true centre relative to window centre\n",
        "    print(f\"window_size: {window_size_px}, location: {location_px} + {location_alignment_offset_fpx} = {location_fpx}\")\n",
        "    if map_known:\n",
        "      map_window = map_from_lds_train_data.rotated_crop(semantic_map, location_px, 0.0, size=window_size_px, mask='none')\n",
        "    else:\n",
        "      # all unknown\n",
        "      map_window = np.zeros((window_size_px[0], window_size_px[1], n_channels), dtype=semantic_map.dtype)\n",
        "      map_window[:,:,2] = 1.0\n",
        "    print(f\"map_window: {map_window.shape}\")\n",
        "\n",
        "    # generate ground-truth map\n",
        "    # (map_known:  aligned to map pixels and zero rotation)\n",
        "    # (!may_known: aligned to exact centre of window and agent orientation)\n",
        "    if map_known:\n",
        "      ground_truth_map = map_from_lds_train_data.rotated_crop(semantic_map, location_px, 0.0, size=window_size_px, mask='none')\n",
        "    else:\n",
        "      ground_truth_map = map_from_lds_train_data.rotated_crop(semantic_map, location_fpx, orientation, size=window_size_px, mask='inner-circle')\n",
        "    print(f\"ground_truth_map: {ground_truth_map.shape}\")\n",
        "\n",
        "    # generate LDS semantic map\n",
        "    # (note: from LDS data alone we don't know absolute centre or orientation, so we work relative to origin here)\n",
        "    # (note: size_px is odd numbered, with equivalent of max_distance out from centre pixel)\n",
        "    lds_orientation = believed_orientation if believed_orientation is not None else 0.0\n",
        "    lds_map = lds_to_occupancy_map(ranges, start_angle=lds_orientation, size_px=window_size_px, centre_px=location_alignment_offset_fpx, pixel_size=pixel_size)\n",
        "\n",
        "    return map_window, lds_map, ground_truth_map, location_alignment_offset_fpx\n",
        "\n",
        "def lds_to_occupancy_map(ranges, start_angle, size_px, **kwargs):\n",
        "    \"\"\"\n",
        "    :param ranges: array (n,) - range values may contain nans, which are dropped\n",
        "    :param start_angle: angle of first range (radians)\n",
        "    :param centre_px: array (2,) = float, [x,y] - centre point for ranges\n",
        "    :param size_px: int/float or tuple (h, w) = size of output map in pixels\n",
        "    :param kwargs\n",
        "\n",
        "    Keyword args:\n",
        "      pixel_size:\n",
        "      centre_px: tuple, float (x,y), relative to map centre (unit: pixels)\n",
        "        Usually centres LDS data exactly on centre of generated map (to sub-pixel resolution).\n",
        "        Use this to shift by some amount.\n",
        "      encoding: one of 'nn', 'antialiased', 'nn+offset':\n",
        "        nn: nearest neighbour\n",
        "        (TODO) antialised: blurs into adjacent pixels for implied sub-pixel resolution\n",
        "        (TODO) nn+offset: picks single NN pixel, but on second and third channels adds\n",
        "          x and y offset (-0.5 .. +0.5) in sub-pixel resolution\n",
        "\n",
        "    :return: array (h,w) of floats in range [0,1]\n",
        "    \"\"\"\n",
        "\n",
        "    # config\n",
        "    pixel_size = kwargs.get('pixel_size', 1.0)\n",
        "    centre_px = kwargs.get('centre_px', (0.0, 0.0))\n",
        "    size_px = np.array(size_px) if len(size_px) == 2 else np.array([size_px, size_px])\n",
        "\n",
        "    map_centre_fpx = np.array((size_px-1) / 2) + np.array(centre_px)\n",
        "\n",
        "    print(f\"pixel_size: {pixel_size}, centre_px: {centre_px}, map_centre_fpx: {map_centre_fpx}\")\n",
        "\n",
        "    lds_points = lds.lds_to_2d(ranges, (0, 0), start_angle)\n",
        "    lds_points_px = np.round(lds_points/pixel_size + map_centre_fpx).astype(int)\n",
        "    lds_map = np.full(size_px, 0.0, dtype=np.float32)\n",
        "    lds_map[lds_points_px[:,1], lds_points_px[:,0]] = 1.0\n",
        "\n",
        "    return lds_map\n",
        "\n",
        "def display_training_data_sample(map_window, lds_map, ground_truth_map, centre_offset):\n",
        "  print(f\"map_window:       {map_window.shape}\")\n",
        "  print(f\"lds_map:          {lds_map.shape}\")\n",
        "  print(f\"ground_truth_map: {ground_truth_map.shape}\")\n",
        "  print(f\"centre offset:    {centre_offset}\")\n",
        "\n",
        "  plt.figure(figsize=(10, 2))\n",
        "\n",
        "  plt.subplot(1, 3, 1)\n",
        "  plt.title('Map')\n",
        "  plt.imshow(map_window)\n",
        "  plt.axis('off')\n",
        "\n",
        "  plt.subplot(1, 3, 2)\n",
        "  plt.title('LDS')\n",
        "  plt.imshow(lds_map, cmap='gray')\n",
        "  plt.axis('off')\n",
        "\n",
        "  plt.subplot(1, 3, 3)\n",
        "  plt.title('Ground Truth')\n",
        "  plt.imshow(ground_truth_map, cmap='gray')\n",
        "  plt.axis('off')\n",
        "  plt.show()\n",
        "\n",
        "\n",
        "reload(map_from_lds_train_data)\n",
        "pixel_size = 4.741\n",
        "location = np.array([100.2, 100.8]) * pixel_size\n",
        "window_size = np.ceil(350 / pixel_size).astype(int) * 2 + 1\n",
        "\n",
        "#ranges = lds.lds_sample(floorplan[:,:,1], location, 0.0, max_distance=350, pixel_size=pixel_size)\n",
        "#map = lds_to_occupancy_map(ranges, start_angle=0.0, size_px=window_size, centre_px=(0.0, 0.0), pixel_size=pixel_size)\n",
        "\n",
        "map_window, lds_map, ground_truth_map, centre_offset = generate_training_data_sample(floorplan, location, 0.0, True, 0.0, pixel_size=pixel_size, max_distance=350)\n",
        "display_training_data_sample(map_window, lds_map, ground_truth_map, centre_offset)\n",
        "\n",
        "map_window, lds_map, ground_truth_map, centre_offset = generate_training_data_sample(floorplan, location, np.deg2rad(30.0), True, np.deg2rad(35.0), pixel_size=pixel_size, max_distance=350)\n",
        "display_training_data_sample(map_window, lds_map, ground_truth_map, centre_offset)\n",
        "\n",
        "map_window, lds_map, ground_truth_map, centre_offset = generate_training_data_sample(floorplan, location, 0.0, False, 0.0, pixel_size=pixel_size, max_distance=350)\n",
        "display_training_data_sample(map_window, lds_map, ground_truth_map, centre_offset)\n",
        "\n",
        "map_window, lds_map, ground_truth_map, centre_offset = generate_training_data_sample(floorplan, location, np.deg2rad(30.0), False, 0.0, pixel_size=pixel_size, max_distance=350)\n",
        "display_training_data_sample(map_window, lds_map, ground_truth_map, centre_offset)"
      ],
      "metadata": {
        "colab": {
          "base_uri": "https://localhost:8080/",
          "height": 1000
        },
        "id": "9offxUXVajCT",
        "outputId": "45e15ce6-b943-436c-dd91-896057a7f405"
      },
      "execution_count": 68,
      "outputs": [
        {
          "output_type": "stream",
          "name": "stdout",
          "text": [
            "window_size: [149 149], location: [100 101] + [ 0.2 -0.2] = [100.2 100.8]\n",
            "map_window: (149, 149, 3)\n",
            "ground_truth_map: (149, 149, 3)\n",
            "pixel_size: 4.741, centre_px: [ 0.2 -0.2], map_centre_fpx: [74.2 73.8]\n",
            "map_window:       (149, 149, 3)\n",
            "lds_map:          (149, 149)\n",
            "ground_truth_map: (149, 149, 3)\n",
            "centre offset:    [ 0.2 -0.2]\n"
          ]
        },
        {
          "output_type": "display_data",
          "data": {
            "text/plain": [
              "<Figure size 1000x200 with 3 Axes>"
            ],
            "image/png": "[encoded data removed]"
          },
          "metadata": {}
        },
        {
          "output_type": "stream",
          "name": "stdout",
          "text": [
            "window_size: [149 149], location: [100 101] + [ 0.2 -0.2] = [100.2 100.8]\n",
            "map_window: (149, 149, 3)\n",
            "ground_truth_map: (149, 149, 3)\n",
            "pixel_size: 4.741, centre_px: [ 0.2 -0.2], map_centre_fpx: [74.2 73.8]\n",
            "map_window:       (149, 149, 3)\n",
            "lds_map:          (149, 149)\n",
            "ground_truth_map: (149, 149, 3)\n",
            "centre offset:    [ 0.2 -0.2]\n"
          ]
        },
        {
          "output_type": "display_data",
          "data": {
            "text/plain": [
              "<Figure size 1000x200 with 3 Axes>"
            ],
            "image/png": "[encoded data removed]"
          },
          "metadata": {}
        },
        {
          "output_type": "stream",
          "name": "stdout",
          "text": [
            "window_size: [149 149], location: [100 101] + [ 0.2 -0.2] = [100.2 100.8]\n",
            "map_window: (149, 149, 3)\n",
            "ground_truth_map: (149, 149, 3)\n",
            "pixel_size: 4.741, centre_px: [ 0.2 -0.2], map_centre_fpx: [74.2 73.8]\n",
            "map_window:       (149, 149, 3)\n",
            "lds_map:          (149, 149)\n",
            "ground_truth_map: (149, 149, 3)\n",
            "centre offset:    [ 0.2 -0.2]\n"
          ]
        },
        {
          "output_type": "display_data",
          "data": {
            "text/plain": [
              "<Figure size 1000x200 with 3 Axes>"
            ],
            "image/png": "[encoded data removed]"
          },
          "metadata": {}
        },
        {
          "output_type": "stream",
          "name": "stdout",
          "text": [
            "window_size: [149 149], location: [100 101] + [ 0.2 -0.2] = [100.2 100.8]\n",
            "map_window: (149, 149, 3)\n",
            "ground_truth_map: (149, 149, 3)\n",
            "pixel_size: 4.741, centre_px: [ 0.2 -0.2], map_centre_fpx: [74.2 73.8]\n",
            "map_window:       (149, 149, 3)\n",
            "lds_map:          (149, 149)\n",
            "ground_truth_map: (149, 149, 3)\n",
            "centre offset:    [ 0.2 -0.2]\n"
          ]
        },
        {
          "output_type": "display_data",
          "data": {
            "text/plain": [
              "<Figure size 1000x200 with 3 Axes>"
            ],
            "image/png": "[encoded data removed]"
          },
          "metadata": {}
        }
      ]
    },
    {
      "cell_type": "code",
      "source": [
        "# show first 5\n",
        "plt.figure(figsize=(4, 10))\n",
        "for i in range(0,5):\n",
        "  plt.subplot(5,2,i*2+1)\n",
        "  plt.imshow(X[i], cmap='gray')\n",
        "  plt.axis('off')\n",
        "\n",
        "  plt.subplot(5,2,i*2+2)\n",
        "  plt.imshow(Y[i], cmap='gray')\n",
        "  plt.axis('off')\n",
        "plt.show()\n",
        "\n",
        "# Save for later re-loading\n",
        "# (needs to be manually downloaded and saved to repo)\n",
        "#np.savez_compressed('experimental-slam-training-data1.npz', X=X, Y=Y)"
      ],
      "metadata": {
        "id": "0yA4dW_Oamg9"
      },
      "execution_count": null,
      "outputs": []
    },
    {
      "cell_type": "markdown",
      "source": [
        "## Model training"
      ],
      "metadata": {
        "id": "jLrYTUOLaa3a"
      }
    },
    {
      "cell_type": "code",
      "source": [
        "reload(slam)\n",
        "data_shape = next(iter(dataset))[0].shape\n",
        "input_size = (data_shape[0], data_shape[1], 1)\n",
        "\n",
        "model = slam.slam_model(input_size, conv_filters=32, adlo_units=256)\n",
        "model.compile(optimizer='adam',\n",
        "              loss=tf.keras.losses.SparseCategoricalCrossentropy(from_logits=True),\n",
        "              metrics=['accuracy'])\n",
        "epochs = 20\n",
        "batch_size = 32\n",
        "train_dataset = dataset.shuffle(buffer_size=len(X)).batch(batch_size).prefetch(tf.data.experimental.AUTOTUNE)\n",
        "\n",
        "start = timer()\n",
        "model_history = model.fit(train_dataset, epochs=epochs)\n",
        "duration = (timer() - start)\n",
        "print(f\"Epochs: {epochs}, duration: {duration} sec\")\n",
        "display_history(model_history)\n",
        "show_predictions(model, dataset, 5)"
      ],
      "metadata": {
        "colab": {
          "base_uri": "https://localhost:8080/",
          "height": 443
        },
        "id": "XpyRQW8Saaf2",
        "outputId": "ae99ac99-1a6f-4aa3-ff99-dc89b3b8a9ad"
      },
      "execution_count": 19,
      "outputs": [
        {
          "output_type": "stream",
          "name": "stdout",
          "text": [
            "Map shape: (105, 105, 1) + padding (7, 7, 0)\n",
            "Skip-connection merge mode: concat\n",
            "Output: logits\n",
            "Added final cropping layer: w=7, h=7\n",
            "Epoch 1/20\n"
          ]
        },
        {
          "output_type": "error",
          "ename": "ValueError",
          "evalue": "Input 0 of layer \"functional\" is incompatible with the layer: expected shape=(None, 112, 112, 1), found shape=(None, 105, 105)",
          "traceback": [
            "\u001b[0;31m---------------------------------------------------------------------------\u001b[0m",
            "\u001b[0;31mValueError\u001b[0m                                Traceback (most recent call last)",
            "\u001b[0;32m<ipython-input-19-2a19591b57b2>\u001b[0m in \u001b[0;36m<cell line: 14>\u001b[0;34m()\u001b[0m\n\u001b[1;32m     12\u001b[0m \u001b[0;34m\u001b[0m\u001b[0m\n\u001b[1;32m     13\u001b[0m \u001b[0mstart\u001b[0m \u001b[0;34m=\u001b[0m \u001b[0mtimer\u001b[0m\u001b[0;34m(\u001b[0m\u001b[0;34m)\u001b[0m\u001b[0;34m\u001b[0m\u001b[0;34m\u001b[0m\u001b[0m\n\u001b[0;32m---> 14\u001b[0;31m \u001b[0mmodel_history\u001b[0m \u001b[0;34m=\u001b[0m \u001b[0mmodel\u001b[0m\u001b[0;34m.\u001b[0m\u001b[0mfit\u001b[0m\u001b[0;34m(\u001b[0m\u001b[0mtrain_dataset\u001b[0m\u001b[0;34m,\u001b[0m \u001b[0mepochs\u001b[0m\u001b[0;34m=\u001b[0m\u001b[0mepochs\u001b[0m\u001b[0;34m)\u001b[0m\u001b[0;34m\u001b[0m\u001b[0;34m\u001b[0m\u001b[0m\n\u001b[0m\u001b[1;32m     15\u001b[0m \u001b[0mduration\u001b[0m \u001b[0;34m=\u001b[0m \u001b[0;34m(\u001b[0m\u001b[0mtimer\u001b[0m\u001b[0;34m(\u001b[0m\u001b[0;34m)\u001b[0m \u001b[0;34m-\u001b[0m \u001b[0mstart\u001b[0m\u001b[0;34m)\u001b[0m\u001b[0;34m\u001b[0m\u001b[0;34m\u001b[0m\u001b[0m\n\u001b[1;32m     16\u001b[0m \u001b[0mprint\u001b[0m\u001b[0;34m(\u001b[0m\u001b[0;34mf\"Epochs: {epochs}, duration: {duration} sec\"\u001b[0m\u001b[0;34m)\u001b[0m\u001b[0;34m\u001b[0m\u001b[0;34m\u001b[0m\u001b[0m\n",
            "\u001b[0;32m/usr/local/lib/python3.10/dist-packages/keras/src/utils/traceback_utils.py\u001b[0m in \u001b[0;36merror_handler\u001b[0;34m(*args, **kwargs)\u001b[0m\n\u001b[1;32m    120\u001b[0m             \u001b[0;31m# To get the full stack trace, call:\u001b[0m\u001b[0;34m\u001b[0m\u001b[0;34m\u001b[0m\u001b[0m\n\u001b[1;32m    121\u001b[0m             \u001b[0;31m# `keras.config.disable_traceback_filtering()`\u001b[0m\u001b[0;34m\u001b[0m\u001b[0;34m\u001b[0m\u001b[0m\n\u001b[0;32m--> 122\u001b[0;31m             \u001b[0;32mraise\u001b[0m \u001b[0me\u001b[0m\u001b[0;34m.\u001b[0m\u001b[0mwith_traceback\u001b[0m\u001b[0;34m(\u001b[0m\u001b[0mfiltered_tb\u001b[0m\u001b[0;34m)\u001b[0m \u001b[0;32mfrom\u001b[0m \u001b[0;32mNone\u001b[0m\u001b[0;34m\u001b[0m\u001b[0;34m\u001b[0m\u001b[0m\n\u001b[0m\u001b[1;32m    123\u001b[0m         \u001b[0;32mfinally\u001b[0m\u001b[0;34m:\u001b[0m\u001b[0;34m\u001b[0m\u001b[0;34m\u001b[0m\u001b[0m\n\u001b[1;32m    124\u001b[0m             \u001b[0;32mdel\u001b[0m \u001b[0mfiltered_tb\u001b[0m\u001b[0;34m\u001b[0m\u001b[0;34m\u001b[0m\u001b[0m\n",
            "\u001b[0;32m/usr/local/lib/python3.10/dist-packages/keras/src/layers/input_spec.py\u001b[0m in \u001b[0;36massert_input_compatibility\u001b[0;34m(input_spec, inputs, layer_name)\u001b[0m\n\u001b[1;32m    243\u001b[0m                 \u001b[0;32mif\u001b[0m \u001b[0mspec_dim\u001b[0m \u001b[0;32mis\u001b[0m \u001b[0;32mnot\u001b[0m \u001b[0;32mNone\u001b[0m \u001b[0;32mand\u001b[0m \u001b[0mdim\u001b[0m \u001b[0;32mis\u001b[0m \u001b[0;32mnot\u001b[0m \u001b[0;32mNone\u001b[0m\u001b[0;34m:\u001b[0m\u001b[0;34m\u001b[0m\u001b[0;34m\u001b[0m\u001b[0m\n\u001b[1;32m    244\u001b[0m                     \u001b[0;32mif\u001b[0m \u001b[0mspec_dim\u001b[0m \u001b[0;34m!=\u001b[0m \u001b[0mdim\u001b[0m\u001b[0;34m:\u001b[0m\u001b[0;34m\u001b[0m\u001b[0;34m\u001b[0m\u001b[0m\n\u001b[0;32m--> 245\u001b[0;31m                         raise ValueError(\n\u001b[0m\u001b[1;32m    246\u001b[0m                             \u001b[0;34mf'Input {input_index} of layer \"{layer_name}\" is '\u001b[0m\u001b[0;34m\u001b[0m\u001b[0;34m\u001b[0m\u001b[0m\n\u001b[1;32m    247\u001b[0m                             \u001b[0;34m\"incompatible with the layer: \"\u001b[0m\u001b[0;34m\u001b[0m\u001b[0;34m\u001b[0m\u001b[0m\n",
            "\u001b[0;31mValueError\u001b[0m: Input 0 of layer \"functional\" is incompatible with the layer: expected shape=(None, 112, 112, 1), found shape=(None, 105, 105)"
          ]
        }
      ]
    },
    {
      "cell_type": "code",
      "source": [
        "tf.size((1, 2, 3)).numpy() == 3"
      ],
      "metadata": {
        "colab": {
          "base_uri": "https://localhost:8080/"
        },
        "id": "tcv-Jul2aXwC",
        "outputId": "194e9edf-d223-4bd6-b9af-68610c5f6bd5"
      },
      "execution_count": 10,
      "outputs": [
        {
          "output_type": "execute_result",
          "data": {
            "text/plain": [
              "True"
            ]
          },
          "metadata": {},
          "execution_count": 10
        }
      ]
    },
    {
      "cell_type": "code",
      "source": [
        "np.size((1, 2, 3))"
      ],
      "metadata": {
        "colab": {
          "base_uri": "https://localhost:8080/"
        },
        "id": "PM7UNNgZcYIU",
        "outputId": "e523cd68-ecc8-4890-919c-a992724dddc6"
      },
      "execution_count": 12,
      "outputs": [
        {
          "output_type": "execute_result",
          "data": {
            "text/plain": [
              "3"
            ]
          },
          "metadata": {},
          "execution_count": 12
        }
      ]
    },
    {
      "cell_type": "code",
      "source": [],
      "metadata": {
        "id": "VRm_gNufct9z"
      },
      "execution_count": null,
      "outputs": []
    }
  ]
}